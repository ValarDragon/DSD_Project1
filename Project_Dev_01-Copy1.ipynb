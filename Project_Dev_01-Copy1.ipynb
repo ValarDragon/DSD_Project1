{
 "cells": [
  {
   "cell_type": "markdown",
   "metadata": {},
   "source": [
    "We are using the School Finances Dataset. "
   ]
  },
  {
   "cell_type": "code",
   "execution_count": 1,
   "metadata": {
    "collapsed": true
   },
   "outputs": [],
   "source": [
    "import missingno as msno\n",
    "import seaborn as sns\n",
    "import numpy as np\n",
    "import pandas as pd\n",
    "import matplotlib.pyplot as plt\n",
    "sns.set()\n",
    "%matplotlib inline\n",
    "import matplotlib.pyplot as plt"
   ]
  },
  {
   "cell_type": "code",
   "execution_count": 2,
   "metadata": {},
   "outputs": [
    {
     "name": "stderr",
     "output_type": "stream",
     "text": [
      "C:\\Users\\brand\\Anaconda3\\lib\\site-packages\\IPython\\core\\interactiveshell.py:2717: DtypeWarning: Columns (7) have mixed types. Specify dtype option on import or set low_memory=False.\n",
      "  interactivity=interactivity, compiler=compiler, result=result)\n"
     ]
    }
   ],
   "source": [
    "df = pd.read_csv('elsec15.csv')"
   ]
  },
  {
   "cell_type": "code",
   "execution_count": 3,
   "metadata": {},
   "outputs": [
    {
     "data": {
      "text/html": [
       "<div>\n",
       "<style>\n",
       "    .dataframe thead tr:only-child th {\n",
       "        text-align: right;\n",
       "    }\n",
       "\n",
       "    .dataframe thead th {\n",
       "        text-align: left;\n",
       "    }\n",
       "\n",
       "    .dataframe tbody tr th {\n",
       "        vertical-align: top;\n",
       "    }\n",
       "</style>\n",
       "<table border=\"1\" class=\"dataframe\">\n",
       "  <thead>\n",
       "    <tr style=\"text-align: right;\">\n",
       "      <th></th>\n",
       "      <th>STATE</th>\n",
       "      <th>IDCENSUS</th>\n",
       "      <th>NAME</th>\n",
       "      <th>CONUM</th>\n",
       "      <th>CSA</th>\n",
       "      <th>CBSA</th>\n",
       "      <th>SCHLEV</th>\n",
       "      <th>NCESID</th>\n",
       "      <th>YRDATA</th>\n",
       "      <th>V33</th>\n",
       "      <th>...</th>\n",
       "      <th>V32</th>\n",
       "      <th>_19H</th>\n",
       "      <th>_21F</th>\n",
       "      <th>_31F</th>\n",
       "      <th>_41F</th>\n",
       "      <th>_61V</th>\n",
       "      <th>_66V</th>\n",
       "      <th>W01</th>\n",
       "      <th>W31</th>\n",
       "      <th>W61</th>\n",
       "    </tr>\n",
       "  </thead>\n",
       "  <tbody>\n",
       "    <tr>\n",
       "      <th>0</th>\n",
       "      <td>1</td>\n",
       "      <td>1500100100000</td>\n",
       "      <td>AUTAUGA COUNTY SCHOOL DISTRICT</td>\n",
       "      <td>1001</td>\n",
       "      <td>N</td>\n",
       "      <td>33860</td>\n",
       "      <td>3</td>\n",
       "      <td>0100240</td>\n",
       "      <td>15</td>\n",
       "      <td>9664</td>\n",
       "      <td>...</td>\n",
       "      <td>0</td>\n",
       "      <td>49431</td>\n",
       "      <td>16603</td>\n",
       "      <td>2992</td>\n",
       "      <td>63042</td>\n",
       "      <td>0</td>\n",
       "      <td>0</td>\n",
       "      <td>2094</td>\n",
       "      <td>372</td>\n",
       "      <td>8617</td>\n",
       "    </tr>\n",
       "    <tr>\n",
       "      <th>1</th>\n",
       "      <td>1</td>\n",
       "      <td>1500200100000</td>\n",
       "      <td>BALDWIN COUNTY SCHOOL DISTRICT</td>\n",
       "      <td>1003</td>\n",
       "      <td>380</td>\n",
       "      <td>19300</td>\n",
       "      <td>3</td>\n",
       "      <td>0100270</td>\n",
       "      <td>15</td>\n",
       "      <td>30596</td>\n",
       "      <td>...</td>\n",
       "      <td>0</td>\n",
       "      <td>337160</td>\n",
       "      <td>99087</td>\n",
       "      <td>13027</td>\n",
       "      <td>423220</td>\n",
       "      <td>0</td>\n",
       "      <td>0</td>\n",
       "      <td>5784</td>\n",
       "      <td>50441</td>\n",
       "      <td>71370</td>\n",
       "    </tr>\n",
       "    <tr>\n",
       "      <th>2</th>\n",
       "      <td>1</td>\n",
       "      <td>1500300100000</td>\n",
       "      <td>BARBOUR COUNTY SCHOOL DISTRICT</td>\n",
       "      <td>1005</td>\n",
       "      <td>N</td>\n",
       "      <td>N</td>\n",
       "      <td>3</td>\n",
       "      <td>0100300</td>\n",
       "      <td>15</td>\n",
       "      <td>925</td>\n",
       "      <td>...</td>\n",
       "      <td>0</td>\n",
       "      <td>8024</td>\n",
       "      <td>0</td>\n",
       "      <td>304</td>\n",
       "      <td>7720</td>\n",
       "      <td>0</td>\n",
       "      <td>0</td>\n",
       "      <td>0</td>\n",
       "      <td>0</td>\n",
       "      <td>646</td>\n",
       "    </tr>\n",
       "    <tr>\n",
       "      <th>3</th>\n",
       "      <td>1</td>\n",
       "      <td>1500300200000</td>\n",
       "      <td>EUFAULA CITY SCHOOL DISTRICT</td>\n",
       "      <td>1005</td>\n",
       "      <td>N</td>\n",
       "      <td>N</td>\n",
       "      <td>3</td>\n",
       "      <td>0101410</td>\n",
       "      <td>15</td>\n",
       "      <td>2829</td>\n",
       "      <td>...</td>\n",
       "      <td>0</td>\n",
       "      <td>0</td>\n",
       "      <td>0</td>\n",
       "      <td>0</td>\n",
       "      <td>0</td>\n",
       "      <td>0</td>\n",
       "      <td>0</td>\n",
       "      <td>0</td>\n",
       "      <td>2054</td>\n",
       "      <td>7478</td>\n",
       "    </tr>\n",
       "    <tr>\n",
       "      <th>4</th>\n",
       "      <td>1</td>\n",
       "      <td>1500400100000</td>\n",
       "      <td>BIBB COUNTY SCHOOL DISTRICT</td>\n",
       "      <td>1007</td>\n",
       "      <td>142</td>\n",
       "      <td>13820</td>\n",
       "      <td>3</td>\n",
       "      <td>0100360</td>\n",
       "      <td>15</td>\n",
       "      <td>3357</td>\n",
       "      <td>...</td>\n",
       "      <td>0</td>\n",
       "      <td>22155</td>\n",
       "      <td>0</td>\n",
       "      <td>1190</td>\n",
       "      <td>20965</td>\n",
       "      <td>0</td>\n",
       "      <td>0</td>\n",
       "      <td>1397</td>\n",
       "      <td>790</td>\n",
       "      <td>5400</td>\n",
       "    </tr>\n",
       "  </tbody>\n",
       "</table>\n",
       "<p>5 rows × 141 columns</p>\n",
       "</div>"
      ],
      "text/plain": [
       "   STATE       IDCENSUS                            NAME  CONUM  CSA   CBSA  \\\n",
       "0      1  1500100100000  AUTAUGA COUNTY SCHOOL DISTRICT   1001    N  33860   \n",
       "1      1  1500200100000  BALDWIN COUNTY SCHOOL DISTRICT   1003  380  19300   \n",
       "2      1  1500300100000  BARBOUR COUNTY SCHOOL DISTRICT   1005    N      N   \n",
       "3      1  1500300200000    EUFAULA CITY SCHOOL DISTRICT   1005    N      N   \n",
       "4      1  1500400100000     BIBB COUNTY SCHOOL DISTRICT   1007  142  13820   \n",
       "\n",
       "   SCHLEV   NCESID  YRDATA    V33  ...    V32    _19H   _21F   _31F    _41F  \\\n",
       "0       3  0100240      15   9664  ...      0   49431  16603   2992   63042   \n",
       "1       3  0100270      15  30596  ...      0  337160  99087  13027  423220   \n",
       "2       3  0100300      15    925  ...      0    8024      0    304    7720   \n",
       "3       3  0101410      15   2829  ...      0       0      0      0       0   \n",
       "4       3  0100360      15   3357  ...      0   22155      0   1190   20965   \n",
       "\n",
       "   _61V  _66V   W01    W31    W61  \n",
       "0     0     0  2094    372   8617  \n",
       "1     0     0  5784  50441  71370  \n",
       "2     0     0     0      0    646  \n",
       "3     0     0     0   2054   7478  \n",
       "4     0     0  1397    790   5400  \n",
       "\n",
       "[5 rows x 141 columns]"
      ]
     },
     "execution_count": 3,
     "metadata": {},
     "output_type": "execute_result"
    }
   ],
   "source": [
    "df.head()"
   ]
  },
  {
   "cell_type": "code",
   "execution_count": 4,
   "metadata": {},
   "outputs": [
    {
     "data": {
      "image/png": "[encoded data removed]",
      "text/plain": [
       "<matplotlib.figure.Figure at 0x22902abc278>"
      ]
     },
     "metadata": {},
     "output_type": "display_data"
    }
   ],
   "source": [
    "msno.matrix(df)"
   ]
  },
  {
   "cell_type": "code",
   "execution_count": 5,
   "metadata": {},
   "outputs": [
    {
     "data": {
      "text/plain": [
       "(14376, 141)"
      ]
     },
     "execution_count": 5,
     "metadata": {},
     "output_type": "execute_result"
    }
   ],
   "source": [
    "df.shape"
   ]
  },
  {
   "cell_type": "code",
   "execution_count": 6,
   "metadata": {},
   "outputs": [
    {
     "data": {
      "text/html": [
       "<div>\n",
       "<style>\n",
       "    .dataframe thead tr:only-child th {\n",
       "        text-align: right;\n",
       "    }\n",
       "\n",
       "    .dataframe thead th {\n",
       "        text-align: left;\n",
       "    }\n",
       "\n",
       "    .dataframe tbody tr th {\n",
       "        vertical-align: top;\n",
       "    }\n",
       "</style>\n",
       "<table border=\"1\" class=\"dataframe\">\n",
       "  <thead>\n",
       "    <tr style=\"text-align: right;\">\n",
       "      <th></th>\n",
       "      <th>STATE</th>\n",
       "      <th>IDCENSUS</th>\n",
       "      <th>CONUM</th>\n",
       "      <th>SCHLEV</th>\n",
       "      <th>YRDATA</th>\n",
       "      <th>V33</th>\n",
       "      <th>TOTALREV</th>\n",
       "      <th>TFEDREV</th>\n",
       "      <th>C14</th>\n",
       "      <th>C15</th>\n",
       "      <th>...</th>\n",
       "      <th>V32</th>\n",
       "      <th>_19H</th>\n",
       "      <th>_21F</th>\n",
       "      <th>_31F</th>\n",
       "      <th>_41F</th>\n",
       "      <th>_61V</th>\n",
       "      <th>_66V</th>\n",
       "      <th>W01</th>\n",
       "      <th>W31</th>\n",
       "      <th>W61</th>\n",
       "    </tr>\n",
       "  </thead>\n",
       "  <tbody>\n",
       "    <tr>\n",
       "      <th>count</th>\n",
       "      <td>14376.000000</td>\n",
       "      <td>1.437600e+04</td>\n",
       "      <td>14376.000000</td>\n",
       "      <td>14376.000000</td>\n",
       "      <td>14376.0</td>\n",
       "      <td>14376.000000</td>\n",
       "      <td>1.437600e+04</td>\n",
       "      <td>1.437600e+04</td>\n",
       "      <td>14376.000000</td>\n",
       "      <td>14376.000000</td>\n",
       "      <td>...</td>\n",
       "      <td>14376.000000</td>\n",
       "      <td>1.437600e+04</td>\n",
       "      <td>1.437600e+04</td>\n",
       "      <td>14376.000000</td>\n",
       "      <td>1.437600e+04</td>\n",
       "      <td>14376.000000</td>\n",
       "      <td>14376.000000</td>\n",
       "      <td>14376.000000</td>\n",
       "      <td>14376.000000</td>\n",
       "      <td>1.437600e+04</td>\n",
       "    </tr>\n",
       "    <tr>\n",
       "      <th>mean</th>\n",
       "      <td>26.801336</td>\n",
       "      <td>2.728090e+13</td>\n",
       "      <td>29838.158598</td>\n",
       "      <td>2.883139</td>\n",
       "      <td>15.0</td>\n",
       "      <td>3374.682526</td>\n",
       "      <td>4.546951e+04</td>\n",
       "      <td>3.708038e+03</td>\n",
       "      <td>915.914858</td>\n",
       "      <td>752.781093</td>\n",
       "      <td>...</td>\n",
       "      <td>7.318656</td>\n",
       "      <td>2.871850e+04</td>\n",
       "      <td>4.831726e+03</td>\n",
       "      <td>3936.853158</td>\n",
       "      <td>2.957606e+04</td>\n",
       "      <td>487.162354</td>\n",
       "      <td>553.761547</td>\n",
       "      <td>1335.636825</td>\n",
       "      <td>3710.651920</td>\n",
       "      <td>9.091542e+03</td>\n",
       "    </tr>\n",
       "    <tr>\n",
       "      <th>std</th>\n",
       "      <td>13.894331</td>\n",
       "      <td>1.389514e+13</td>\n",
       "      <td>14753.492121</td>\n",
       "      <td>1.271649</td>\n",
       "      <td>0.0</td>\n",
       "      <td>14419.737037</td>\n",
       "      <td>2.590623e+05</td>\n",
       "      <td>2.021328e+04</td>\n",
       "      <td>5972.748111</td>\n",
       "      <td>3619.184513</td>\n",
       "      <td>...</td>\n",
       "      <td>122.649299</td>\n",
       "      <td>1.841763e+05</td>\n",
       "      <td>2.652979e+04</td>\n",
       "      <td>20071.591744</td>\n",
       "      <td>1.894224e+05</td>\n",
       "      <td>3555.988118</td>\n",
       "      <td>6968.740454</td>\n",
       "      <td>10651.097318</td>\n",
       "      <td>20183.852905</td>\n",
       "      <td>3.261580e+04</td>\n",
       "    </tr>\n",
       "    <tr>\n",
       "      <th>min</th>\n",
       "      <td>1.000000</td>\n",
       "      <td>1.500100e+12</td>\n",
       "      <td>1001.000000</td>\n",
       "      <td>1.000000</td>\n",
       "      <td>15.0</td>\n",
       "      <td>0.000000</td>\n",
       "      <td>0.000000e+00</td>\n",
       "      <td>0.000000e+00</td>\n",
       "      <td>0.000000</td>\n",
       "      <td>0.000000</td>\n",
       "      <td>...</td>\n",
       "      <td>0.000000</td>\n",
       "      <td>0.000000e+00</td>\n",
       "      <td>0.000000e+00</td>\n",
       "      <td>0.000000</td>\n",
       "      <td>0.000000e+00</td>\n",
       "      <td>0.000000</td>\n",
       "      <td>0.000000</td>\n",
       "      <td>0.000000</td>\n",
       "      <td>0.000000</td>\n",
       "      <td>0.000000e+00</td>\n",
       "    </tr>\n",
       "    <tr>\n",
       "      <th>25%</th>\n",
       "      <td>15.000000</td>\n",
       "      <td>1.550327e+13</td>\n",
       "      <td>18063.000000</td>\n",
       "      <td>3.000000</td>\n",
       "      <td>15.0</td>\n",
       "      <td>305.000000</td>\n",
       "      <td>5.241500e+03</td>\n",
       "      <td>2.920000e+02</td>\n",
       "      <td>54.000000</td>\n",
       "      <td>0.000000</td>\n",
       "      <td>...</td>\n",
       "      <td>0.000000</td>\n",
       "      <td>8.400000e+01</td>\n",
       "      <td>0.000000e+00</td>\n",
       "      <td>5.000000</td>\n",
       "      <td>7.150000e+01</td>\n",
       "      <td>0.000000</td>\n",
       "      <td>0.000000</td>\n",
       "      <td>0.000000</td>\n",
       "      <td>0.000000</td>\n",
       "      <td>8.350000e+02</td>\n",
       "    </tr>\n",
       "    <tr>\n",
       "      <th>50%</th>\n",
       "      <td>27.000000</td>\n",
       "      <td>2.750320e+13</td>\n",
       "      <td>30063.000000</td>\n",
       "      <td>3.000000</td>\n",
       "      <td>15.0</td>\n",
       "      <td>979.500000</td>\n",
       "      <td>1.402300e+04</td>\n",
       "      <td>8.470000e+02</td>\n",
       "      <td>180.000000</td>\n",
       "      <td>118.000000</td>\n",
       "      <td>...</td>\n",
       "      <td>0.000000</td>\n",
       "      <td>4.034000e+03</td>\n",
       "      <td>0.000000e+00</td>\n",
       "      <td>410.000000</td>\n",
       "      <td>4.143500e+03</td>\n",
       "      <td>0.000000</td>\n",
       "      <td>0.000000</td>\n",
       "      <td>0.000000</td>\n",
       "      <td>0.000000</td>\n",
       "      <td>2.708500e+03</td>\n",
       "    </tr>\n",
       "    <tr>\n",
       "      <th>75%</th>\n",
       "      <td>38.000000</td>\n",
       "      <td>3.850053e+13</td>\n",
       "      <td>41009.000000</td>\n",
       "      <td>3.000000</td>\n",
       "      <td>15.0</td>\n",
       "      <td>2744.250000</td>\n",
       "      <td>3.791375e+04</td>\n",
       "      <td>2.433500e+03</td>\n",
       "      <td>545.250000</td>\n",
       "      <td>532.000000</td>\n",
       "      <td>...</td>\n",
       "      <td>0.000000</td>\n",
       "      <td>1.866350e+04</td>\n",
       "      <td>3.030000e+02</td>\n",
       "      <td>1845.000000</td>\n",
       "      <td>1.912600e+04</td>\n",
       "      <td>0.000000</td>\n",
       "      <td>0.000000</td>\n",
       "      <td>491.000000</td>\n",
       "      <td>626.250000</td>\n",
       "      <td>7.567500e+03</td>\n",
       "    </tr>\n",
       "    <tr>\n",
       "      <th>max</th>\n",
       "      <td>51.000000</td>\n",
       "      <td>5.150230e+13</td>\n",
       "      <td>56045.000000</td>\n",
       "      <td>7.000000</td>\n",
       "      <td>15.0</td>\n",
       "      <td>995192.000000</td>\n",
       "      <td>2.543738e+07</td>\n",
       "      <td>1.307783e+06</td>\n",
       "      <td>379531.000000</td>\n",
       "      <td>248209.000000</td>\n",
       "      <td>...</td>\n",
       "      <td>7753.000000</td>\n",
       "      <td>1.372802e+07</td>\n",
       "      <td>1.312286e+06</td>\n",
       "      <td>731854.000000</td>\n",
       "      <td>1.447108e+07</td>\n",
       "      <td>173300.000000</td>\n",
       "      <td>700000.000000</td>\n",
       "      <td>869643.000000</td>\n",
       "      <td>885058.000000</td>\n",
       "      <td>2.355662e+06</td>\n",
       "    </tr>\n",
       "  </tbody>\n",
       "</table>\n",
       "<p>8 rows × 137 columns</p>\n",
       "</div>"
      ],
      "text/plain": [
       "              STATE      IDCENSUS         CONUM        SCHLEV   YRDATA  \\\n",
       "count  14376.000000  1.437600e+04  14376.000000  14376.000000  14376.0   \n",
       "mean      26.801336  2.728090e+13  29838.158598      2.883139     15.0   \n",
       "std       13.894331  1.389514e+13  14753.492121      1.271649      0.0   \n",
       "min        1.000000  1.500100e+12   1001.000000      1.000000     15.0   \n",
       "25%       15.000000  1.550327e+13  18063.000000      3.000000     15.0   \n",
       "50%       27.000000  2.750320e+13  30063.000000      3.000000     15.0   \n",
       "75%       38.000000  3.850053e+13  41009.000000      3.000000     15.0   \n",
       "max       51.000000  5.150230e+13  56045.000000      7.000000     15.0   \n",
       "\n",
       "                 V33      TOTALREV       TFEDREV            C14  \\\n",
       "count   14376.000000  1.437600e+04  1.437600e+04   14376.000000   \n",
       "mean     3374.682526  4.546951e+04  3.708038e+03     915.914858   \n",
       "std     14419.737037  2.590623e+05  2.021328e+04    5972.748111   \n",
       "min         0.000000  0.000000e+00  0.000000e+00       0.000000   \n",
       "25%       305.000000  5.241500e+03  2.920000e+02      54.000000   \n",
       "50%       979.500000  1.402300e+04  8.470000e+02     180.000000   \n",
       "75%      2744.250000  3.791375e+04  2.433500e+03     545.250000   \n",
       "max    995192.000000  2.543738e+07  1.307783e+06  379531.000000   \n",
       "\n",
       "                 C15      ...                V32          _19H          _21F  \\\n",
       "count   14376.000000      ...       14376.000000  1.437600e+04  1.437600e+04   \n",
       "mean      752.781093      ...           7.318656  2.871850e+04  4.831726e+03   \n",
       "std      3619.184513      ...         122.649299  1.841763e+05  2.652979e+04   \n",
       "min         0.000000      ...           0.000000  0.000000e+00  0.000000e+00   \n",
       "25%         0.000000      ...           0.000000  8.400000e+01  0.000000e+00   \n",
       "50%       118.000000      ...           0.000000  4.034000e+03  0.000000e+00   \n",
       "75%       532.000000      ...           0.000000  1.866350e+04  3.030000e+02   \n",
       "max    248209.000000      ...        7753.000000  1.372802e+07  1.312286e+06   \n",
       "\n",
       "                _31F          _41F           _61V           _66V  \\\n",
       "count   14376.000000  1.437600e+04   14376.000000   14376.000000   \n",
       "mean     3936.853158  2.957606e+04     487.162354     553.761547   \n",
       "std     20071.591744  1.894224e+05    3555.988118    6968.740454   \n",
       "min         0.000000  0.000000e+00       0.000000       0.000000   \n",
       "25%         5.000000  7.150000e+01       0.000000       0.000000   \n",
       "50%       410.000000  4.143500e+03       0.000000       0.000000   \n",
       "75%      1845.000000  1.912600e+04       0.000000       0.000000   \n",
       "max    731854.000000  1.447108e+07  173300.000000  700000.000000   \n",
       "\n",
       "                 W01            W31           W61  \n",
       "count   14376.000000   14376.000000  1.437600e+04  \n",
       "mean     1335.636825    3710.651920  9.091542e+03  \n",
       "std     10651.097318   20183.852905  3.261580e+04  \n",
       "min         0.000000       0.000000  0.000000e+00  \n",
       "25%         0.000000       0.000000  8.350000e+02  \n",
       "50%         0.000000       0.000000  2.708500e+03  \n",
       "75%       491.000000     626.250000  7.567500e+03  \n",
       "max    869643.000000  885058.000000  2.355662e+06  \n",
       "\n",
       "[8 rows x 137 columns]"
      ]
     },
     "execution_count": 6,
     "metadata": {},
     "output_type": "execute_result"
    }
   ],
   "source": [
    "df.describe()"
   ]
  },
  {
   "cell_type": "code",
   "execution_count": 7,
   "metadata": {
    "scrolled": true
   },
   "outputs": [
    {
     "data": {
      "text/plain": [
       "count     14376\n",
       "unique      170\n",
       "top           N\n",
       "freq       6892\n",
       "Name: CSA, dtype: object"
      ]
     },
     "execution_count": 7,
     "metadata": {},
     "output_type": "execute_result"
    }
   ],
   "source": [
    "df[\"CSA\"].describe()"
   ]
  },
  {
   "cell_type": "code",
   "execution_count": 8,
   "metadata": {
    "collapsed": true
   },
   "outputs": [],
   "source": [
    "df.replace(0, float(\"NAN\"), inplace=True)\n",
    "df.replace(\"N\", float(\"NAN\"), inplace=True)"
   ]
  },
  {
   "cell_type": "code",
   "execution_count": 9,
   "metadata": {},
   "outputs": [
    {
     "data": {
      "image/png": "[encoded data removed]",
      "text/plain": [
       "<matplotlib.figure.Figure at 0x2297ed9a9e8>"
      ]
     },
     "metadata": {},
     "output_type": "display_data"
    }
   ],
   "source": [
    "msno.matrix(df)"
   ]
  },
  {
   "cell_type": "code",
   "execution_count": 10,
   "metadata": {
    "collapsed": true
   },
   "outputs": [],
   "source": [
    "df = df.dropna(axis=1,thresh=8000, how='all')"
   ]
  },
  {
   "cell_type": "code",
   "execution_count": 11,
   "metadata": {},
   "outputs": [
    {
     "data": {
      "image/png": "[encoded data removed]",
      "text/plain": [
       "<matplotlib.figure.Figure at 0x2297ed9af60>"
      ]
     },
     "metadata": {},
     "output_type": "display_data"
    }
   ],
   "source": [
    "msno.matrix(df)"
   ]
  },
  {
   "cell_type": "code",
   "execution_count": 12,
   "metadata": {},
   "outputs": [
    {
     "data": {
      "text/plain": [
       "(14376, 72)"
      ]
     },
     "execution_count": 12,
     "metadata": {},
     "output_type": "execute_result"
    }
   ],
   "source": [
    "df.shape"
   ]
  },
  {
   "cell_type": "code",
   "execution_count": 13,
   "metadata": {
    "collapsed": true
   },
   "outputs": [],
   "source": [
    "df = df.dropna(axis=0,thresh=40, how='all')"
   ]
  },
  {
   "cell_type": "code",
   "execution_count": 14,
   "metadata": {},
   "outputs": [
    {
     "data": {
      "image/png": "[encoded data removed]",
      "text/plain": [
       "<matplotlib.figure.Figure at 0x229033bbc50>"
      ]
     },
     "metadata": {},
     "output_type": "display_data"
    }
   ],
   "source": [
    "msno.matrix(df)"
   ]
  },
  {
   "cell_type": "code",
   "execution_count": 15,
   "metadata": {},
   "outputs": [
    {
     "data": {
      "text/plain": [
       "(13893, 72)"
      ]
     },
     "execution_count": 15,
     "metadata": {},
     "output_type": "execute_result"
    }
   ],
   "source": [
    "df.shape"
   ]
  },
  {
   "cell_type": "code",
   "execution_count": 16,
   "metadata": {},
   "outputs": [
    {
     "data": {
      "text/plain": [
       "Index(['STATE', 'IDCENSUS', 'NAME', 'CONUM', 'CBSA', 'SCHLEV', 'NCESID',\n",
       "       'YRDATA', 'V33', 'TOTALREV', 'TFEDREV', 'C14', 'C15', 'C16', 'C20',\n",
       "       'C25', 'TSTREV', 'C01', 'C10', 'C13', 'TLOCREV', 'T06', 'D11', 'A09',\n",
       "       'A13', 'U22', 'U97', 'TOTALEXP', 'TCURELSC', 'TCURINST', 'E13',\n",
       "       'TCURSSVC', 'E17', 'E07', 'E08', 'E09', 'V40', 'V45', 'V90', 'TCUROTH',\n",
       "       'E11', 'NONELSEC', 'TCAPOUT', 'F12', 'K09', 'K10', 'Q11', 'I86', 'Z32',\n",
       "       'Z33', 'V11', 'V13', 'V15', 'V17', 'V21', 'V23', 'V37', 'V29', 'Z34',\n",
       "       'V10', 'V12', 'V14', 'V16', 'V18', 'V22', 'V24', 'V38', 'V30', '_19H',\n",
       "       '_31F', '_41F', 'W61'],\n",
       "      dtype='object')"
      ]
     },
     "execution_count": 16,
     "metadata": {},
     "output_type": "execute_result"
    }
   ],
   "source": [
    "df.columns"
   ]
  },
  {
   "cell_type": "code",
   "execution_count": 17,
   "metadata": {
    "collapsed": true
   },
   "outputs": [],
   "source": [
    "df.drop(\"YRDATA\", axis=1,inplace=True) #Its all 2015\n",
    "df.drop(\"IDCENSUS\", axis=1, inplace=True)\n",
    "df.drop(\"NCESID\", axis=1, inplace=True)"
   ]
  },
  {
   "cell_type": "code",
   "execution_count": 18,
   "metadata": {},
   "outputs": [
    {
     "data": {
      "text/plain": [
       "(13893, 69)"
      ]
     },
     "execution_count": 18,
     "metadata": {},
     "output_type": "execute_result"
    }
   ],
   "source": [
    "df.shape"
   ]
  },
  {
   "cell_type": "code",
   "execution_count": 19,
   "metadata": {},
   "outputs": [
    {
     "data": {
      "text/plain": [
       "Index(['STATE', 'NAME', 'CONUM', 'CBSA', 'SCHLEV', 'V33', 'TOTALREV',\n",
       "       'TFEDREV', 'C14', 'C15', 'C16', 'C20', 'C25', 'TSTREV', 'C01', 'C10',\n",
       "       'C13', 'TLOCREV', 'T06', 'D11', 'A09', 'A13', 'U22', 'U97', 'TOTALEXP',\n",
       "       'TCURELSC', 'TCURINST', 'E13', 'TCURSSVC', 'E17', 'E07', 'E08', 'E09',\n",
       "       'V40', 'V45', 'V90', 'TCUROTH', 'E11', 'NONELSEC', 'TCAPOUT', 'F12',\n",
       "       'K09', 'K10', 'Q11', 'I86', 'Z32', 'Z33', 'V11', 'V13', 'V15', 'V17',\n",
       "       'V21', 'V23', 'V37', 'V29', 'Z34', 'V10', 'V12', 'V14', 'V16', 'V18',\n",
       "       'V22', 'V24', 'V38', 'V30', '_19H', '_31F', '_41F', 'W61'],\n",
       "      dtype='object')"
      ]
     },
     "execution_count": 19,
     "metadata": {},
     "output_type": "execute_result"
    }
   ],
   "source": [
    "df.columns"
   ]
  },
  {
   "cell_type": "code",
   "execution_count": 20,
   "metadata": {},
   "outputs": [
    {
     "data": {
      "text/plain": [
       "count    13893.000000\n",
       "mean     29942.695314\n",
       "std      14801.015121\n",
       "min       1001.000000\n",
       "25%      18077.000000\n",
       "50%      30089.000000\n",
       "75%      41025.000000\n",
       "max      56045.000000\n",
       "Name: CONUM, dtype: float64"
      ]
     },
     "execution_count": 20,
     "metadata": {},
     "output_type": "execute_result"
    }
   ],
   "source": [
    "df['CONUM'].describe()"
   ]
  },
  {
   "cell_type": "code",
   "execution_count": 21,
   "metadata": {},
   "outputs": [
    {
     "data": {
      "text/plain": [
       "count    1.389300e+04\n",
       "mean     4.679223e+04\n",
       "std      2.784077e+05\n",
       "min      1.140000e+02\n",
       "25%      5.697000e+03\n",
       "50%      1.473600e+04\n",
       "75%      3.862400e+04\n",
       "max      2.747789e+07\n",
       "Name: TOTALEXP, dtype: float64"
      ]
     },
     "execution_count": 21,
     "metadata": {},
     "output_type": "execute_result"
    }
   ],
   "source": [
    "df['TOTALEXP'].describe()"
   ]
  },
  {
   "cell_type": "code",
   "execution_count": 22,
   "metadata": {},
   "outputs": [
    {
     "data": {
      "text/plain": [
       "count     13296.000000\n",
       "mean       3648.478866\n",
       "std       14960.670154\n",
       "min           1.000000\n",
       "25%         422.750000\n",
       "50%        1133.000000\n",
       "75%        3011.750000\n",
       "max      995192.000000\n",
       "Name: V33, dtype: float64"
      ]
     },
     "execution_count": 22,
     "metadata": {},
     "output_type": "execute_result"
    }
   ],
   "source": [
    "df['V33'].describe()"
   ]
  },
  {
   "cell_type": "code",
   "execution_count": 23,
   "metadata": {
    "collapsed": true
   },
   "outputs": [],
   "source": [
    "df['Expenditure/Enrollment'] = df['TOTALEXP']/df['V33']"
   ]
  },
  {
   "cell_type": "code",
   "execution_count": 24,
   "metadata": {},
   "outputs": [
    {
     "data": {
      "text/plain": [
       "count    13296.000000\n",
       "mean        16.169408\n",
       "std         43.487351\n",
       "min          0.546829\n",
       "25%         10.462589\n",
       "50%         12.572407\n",
       "75%         17.129846\n",
       "max       4451.217391\n",
       "Name: Expenditure/Enrollment, dtype: float64"
      ]
     },
     "execution_count": 24,
     "metadata": {},
     "output_type": "execute_result"
    }
   ],
   "source": [
    "df['Expenditure/Enrollment'].describe()"
   ]
  },
  {
   "cell_type": "code",
   "execution_count": 25,
   "metadata": {},
   "outputs": [
    {
     "data": {
      "text/plain": [
       "(13893, 70)"
      ]
     },
     "execution_count": 25,
     "metadata": {},
     "output_type": "execute_result"
    }
   ],
   "source": [
    "df.shape"
   ]
  },
  {
   "cell_type": "code",
   "execution_count": 26,
   "metadata": {},
   "outputs": [],
   "source": [
    "fa_enrollment = pd.DataFrame()"
   ]
  },
  {
   "cell_type": "code",
   "execution_count": 27,
   "metadata": {
    "scrolled": true
   },
   "outputs": [],
   "source": [
    "fa_enrollment['V33'] = df['V33'].dropna()"
   ]
  },
  {
   "cell_type": "code",
   "execution_count": 30,
   "metadata": {},
   "outputs": [
    {
     "data": {
      "text/html": [
       "<div>\n",
       "<style>\n",
       "    .dataframe thead tr:only-child th {\n",
       "        text-align: right;\n",
       "    }\n",
       "\n",
       "    .dataframe thead th {\n",
       "        text-align: left;\n",
       "    }\n",
       "\n",
       "    .dataframe tbody tr th {\n",
       "        vertical-align: top;\n",
       "    }\n",
       "</style>\n",
       "<table border=\"1\" class=\"dataframe\">\n",
       "  <thead>\n",
       "    <tr style=\"text-align: right;\">\n",
       "      <th></th>\n",
       "      <th>V33</th>\n",
       "    </tr>\n",
       "  </thead>\n",
       "  <tbody>\n",
       "    <tr>\n",
       "      <th>count</th>\n",
       "      <td>13296.000000</td>\n",
       "    </tr>\n",
       "    <tr>\n",
       "      <th>mean</th>\n",
       "      <td>3648.478866</td>\n",
       "    </tr>\n",
       "    <tr>\n",
       "      <th>std</th>\n",
       "      <td>14960.670154</td>\n",
       "    </tr>\n",
       "    <tr>\n",
       "      <th>min</th>\n",
       "      <td>1.000000</td>\n",
       "    </tr>\n",
       "    <tr>\n",
       "      <th>25%</th>\n",
       "      <td>422.750000</td>\n",
       "    </tr>\n",
       "    <tr>\n",
       "      <th>50%</th>\n",
       "      <td>1133.000000</td>\n",
       "    </tr>\n",
       "    <tr>\n",
       "      <th>75%</th>\n",
       "      <td>3011.750000</td>\n",
       "    </tr>\n",
       "    <tr>\n",
       "      <th>max</th>\n",
       "      <td>995192.000000</td>\n",
       "    </tr>\n",
       "  </tbody>\n",
       "</table>\n",
       "</div>"
      ],
      "text/plain": [
       "                 V33\n",
       "count   13296.000000\n",
       "mean     3648.478866\n",
       "std     14960.670154\n",
       "min         1.000000\n",
       "25%       422.750000\n",
       "50%      1133.000000\n",
       "75%      3011.750000\n",
       "max    995192.000000"
      ]
     },
     "execution_count": 30,
     "metadata": {},
     "output_type": "execute_result"
    }
   ],
   "source": [
    "fa_enrollment.describe()"
   ]
  },
  {
   "cell_type": "code",
   "execution_count": 29,
   "metadata": {
    "scrolled": true
   },
   "outputs": [
    {
     "data": {
      "text/plain": [
       "array([[<matplotlib.axes._subplots.AxesSubplot object at 0x0000022902C9D6A0>]], dtype=object)"
      ]
     },
     "execution_count": 29,
     "metadata": {},
     "output_type": "execute_result"
    },
    {
     "data": {
      "image/png": "[encoded data removed]",
      "text/plain": [
       "<matplotlib.figure.Figure at 0x2290333c908>"
      ]
     },
     "metadata": {},
     "output_type": "display_data"
    }
   ],
   "source": [
    "fa_enrollment.hist()"
   ]
  },
  {
   "cell_type": "code",
   "execution_count": 103,
   "metadata": {},
   "outputs": [
    {
     "name": "stdout",
     "output_type": "stream",
     "text": [
      "Schools greater than 49,999:  V33    93\n",
      "dtype: int64\n",
      "Schools greater than 9,999 and less than 50,000:  V33    800\n",
      "dtype: int64\n",
      "Schools greater than 1,999 and less than 10,000:  V33    3712\n",
      "dtype: int64\n",
      "Schools greater than 999 and less than 2000):  V33    2512\n",
      "dtype: int64\n",
      "Schools greater than 499 and less than 1000):  V33    2358\n",
      "dtype: int64\n",
      "Schools greater than 99 and less than 500):  V33    3159\n",
      "dtype: int64\n",
      "Schools less than 100):  V33    662\n",
      "dtype: int64\n"
     ]
    }
   ],
   "source": [
    "print(\"Schools greater than 49,999: \" ,  fa_enrollment[fa_enrollment['V33'] >= 50000].count())\n",
    "print(\"Schools greater than 9,999 and less than 50,000: \" ,  fa_enrollment[(fa_enrollment['V33'] < 50000) & (fa_enrollment['V33'] >= 10000)].count())\n",
    "print(\"Schools greater than 1,999 and less than 10,000: \" ,  fa_enrollment[(fa_enrollment['V33'] < 10000) & (fa_enrollment['V33'] >= 2000)].count())\n",
    "print(\"Schools greater than 999 and less than 2000): \", fa_enrollment[(fa_enrollment['V33'] < 2000) & (fa_enrollment['V33'] >= 1000)].count())\n",
    "print(\"Schools greater than 499 and less than 1000): \", fa_enrollment[(fa_enrollment['V33'] < 1000) & (fa_enrollment['V33'] >= 500)].count())\n",
    "print(\"Schools greater than 99 and less than 500): \", fa_enrollment[(fa_enrollment['V33'] < 500) & (fa_enrollment['V33'] >= 100)].count())\n",
    "print(\"Schools less than 100): \", fa_enrollment[(fa_enrollment['V33'] < 100)].count())"
   ]
  },
  {
   "cell_type": "code",
   "execution_count": 35,
   "metadata": {},
   "outputs": [
    {
     "data": {
      "text/html": [
       "<div>\n",
       "<style>\n",
       "    .dataframe thead tr:only-child th {\n",
       "        text-align: right;\n",
       "    }\n",
       "\n",
       "    .dataframe thead th {\n",
       "        text-align: left;\n",
       "    }\n",
       "\n",
       "    .dataframe tbody tr th {\n",
       "        vertical-align: top;\n",
       "    }\n",
       "</style>\n",
       "<table border=\"1\" class=\"dataframe\">\n",
       "  <thead>\n",
       "    <tr style=\"text-align: right;\">\n",
       "      <th></th>\n",
       "      <th>STATE</th>\n",
       "      <th>NAME</th>\n",
       "      <th>CONUM</th>\n",
       "      <th>CBSA</th>\n",
       "      <th>SCHLEV</th>\n",
       "      <th>V33</th>\n",
       "      <th>TOTALREV</th>\n",
       "      <th>TFEDREV</th>\n",
       "      <th>C14</th>\n",
       "      <th>C15</th>\n",
       "      <th>...</th>\n",
       "      <th>V22</th>\n",
       "      <th>V24</th>\n",
       "      <th>V38</th>\n",
       "      <th>V30</th>\n",
       "      <th>_19H</th>\n",
       "      <th>_31F</th>\n",
       "      <th>_41F</th>\n",
       "      <th>W61</th>\n",
       "      <th>Expenditure/Enrollment</th>\n",
       "      <th>Enrollment size</th>\n",
       "    </tr>\n",
       "  </thead>\n",
       "  <tbody>\n",
       "    <tr>\n",
       "      <th>0</th>\n",
       "      <td>1</td>\n",
       "      <td>AUTAUGA COUNTY SCHOOL DISTRICT</td>\n",
       "      <td>1001</td>\n",
       "      <td>33860</td>\n",
       "      <td>3</td>\n",
       "      <td>9664.0</td>\n",
       "      <td>79665.0</td>\n",
       "      <td>7574.0</td>\n",
       "      <td>1791.0</td>\n",
       "      <td>2179.0</td>\n",
       "      <td>...</td>\n",
       "      <td>705.0</td>\n",
       "      <td>1672.0</td>\n",
       "      <td>122.0</td>\n",
       "      <td>1126.0</td>\n",
       "      <td>49431.0</td>\n",
       "      <td>2992.0</td>\n",
       "      <td>63042.0</td>\n",
       "      <td>8617.0</td>\n",
       "      <td>7.871378</td>\n",
       "      <td>Greater than 1999 and less than 10,000</td>\n",
       "    </tr>\n",
       "    <tr>\n",
       "      <th>1</th>\n",
       "      <td>1</td>\n",
       "      <td>BALDWIN COUNTY SCHOOL DISTRICT</td>\n",
       "      <td>1003</td>\n",
       "      <td>19300</td>\n",
       "      <td>3</td>\n",
       "      <td>30596.0</td>\n",
       "      <td>330317.0</td>\n",
       "      <td>23602.0</td>\n",
       "      <td>5729.0</td>\n",
       "      <td>7207.0</td>\n",
       "      <td>...</td>\n",
       "      <td>3787.0</td>\n",
       "      <td>3219.0</td>\n",
       "      <td>744.0</td>\n",
       "      <td>2924.0</td>\n",
       "      <td>337160.0</td>\n",
       "      <td>13027.0</td>\n",
       "      <td>423220.0</td>\n",
       "      <td>71370.0</td>\n",
       "      <td>9.709864</td>\n",
       "      <td>Greater than 9,999 and less than 10,000</td>\n",
       "    </tr>\n",
       "    <tr>\n",
       "      <th>2</th>\n",
       "      <td>1</td>\n",
       "      <td>BARBOUR COUNTY SCHOOL DISTRICT</td>\n",
       "      <td>1005</td>\n",
       "      <td>NaN</td>\n",
       "      <td>3</td>\n",
       "      <td>925.0</td>\n",
       "      <td>10519.0</td>\n",
       "      <td>2518.0</td>\n",
       "      <td>1279.0</td>\n",
       "      <td>323.0</td>\n",
       "      <td>...</td>\n",
       "      <td>68.0</td>\n",
       "      <td>196.0</td>\n",
       "      <td>20.0</td>\n",
       "      <td>134.0</td>\n",
       "      <td>8024.0</td>\n",
       "      <td>304.0</td>\n",
       "      <td>7720.0</td>\n",
       "      <td>646.0</td>\n",
       "      <td>11.150270</td>\n",
       "      <td>Greater than 499 and less than 1000</td>\n",
       "    </tr>\n",
       "    <tr>\n",
       "      <th>3</th>\n",
       "      <td>1</td>\n",
       "      <td>EUFAULA CITY SCHOOL DISTRICT</td>\n",
       "      <td>1005</td>\n",
       "      <td>NaN</td>\n",
       "      <td>3</td>\n",
       "      <td>2829.0</td>\n",
       "      <td>26076.0</td>\n",
       "      <td>3374.0</td>\n",
       "      <td>1035.0</td>\n",
       "      <td>596.0</td>\n",
       "      <td>...</td>\n",
       "      <td>190.0</td>\n",
       "      <td>176.0</td>\n",
       "      <td>141.0</td>\n",
       "      <td>346.0</td>\n",
       "      <td>NaN</td>\n",
       "      <td>NaN</td>\n",
       "      <td>NaN</td>\n",
       "      <td>7478.0</td>\n",
       "      <td>9.049841</td>\n",
       "      <td>Greater than 1999 and less than 10,000</td>\n",
       "    </tr>\n",
       "    <tr>\n",
       "      <th>4</th>\n",
       "      <td>1</td>\n",
       "      <td>BIBB COUNTY SCHOOL DISTRICT</td>\n",
       "      <td>1007</td>\n",
       "      <td>13820</td>\n",
       "      <td>3</td>\n",
       "      <td>3357.0</td>\n",
       "      <td>31825.0</td>\n",
       "      <td>3586.0</td>\n",
       "      <td>856.0</td>\n",
       "      <td>980.0</td>\n",
       "      <td>...</td>\n",
       "      <td>223.0</td>\n",
       "      <td>653.0</td>\n",
       "      <td>119.0</td>\n",
       "      <td>474.0</td>\n",
       "      <td>22155.0</td>\n",
       "      <td>1190.0</td>\n",
       "      <td>20965.0</td>\n",
       "      <td>5400.0</td>\n",
       "      <td>9.321716</td>\n",
       "      <td>Greater than 1999 and less than 10,000</td>\n",
       "    </tr>\n",
       "  </tbody>\n",
       "</table>\n",
       "<p>5 rows × 71 columns</p>\n",
       "</div>"
      ],
      "text/plain": [
       "   STATE                            NAME  CONUM   CBSA  SCHLEV      V33  \\\n",
       "0      1  AUTAUGA COUNTY SCHOOL DISTRICT   1001  33860       3   9664.0   \n",
       "1      1  BALDWIN COUNTY SCHOOL DISTRICT   1003  19300       3  30596.0   \n",
       "2      1  BARBOUR COUNTY SCHOOL DISTRICT   1005    NaN       3    925.0   \n",
       "3      1    EUFAULA CITY SCHOOL DISTRICT   1005    NaN       3   2829.0   \n",
       "4      1     BIBB COUNTY SCHOOL DISTRICT   1007  13820       3   3357.0   \n",
       "\n",
       "   TOTALREV  TFEDREV     C14     C15                   ...                     \\\n",
       "0   79665.0   7574.0  1791.0  2179.0                   ...                      \n",
       "1  330317.0  23602.0  5729.0  7207.0                   ...                      \n",
       "2   10519.0   2518.0  1279.0   323.0                   ...                      \n",
       "3   26076.0   3374.0  1035.0   596.0                   ...                      \n",
       "4   31825.0   3586.0   856.0   980.0                   ...                      \n",
       "\n",
       "      V22     V24    V38     V30      _19H     _31F      _41F      W61  \\\n",
       "0   705.0  1672.0  122.0  1126.0   49431.0   2992.0   63042.0   8617.0   \n",
       "1  3787.0  3219.0  744.0  2924.0  337160.0  13027.0  423220.0  71370.0   \n",
       "2    68.0   196.0   20.0   134.0    8024.0    304.0    7720.0    646.0   \n",
       "3   190.0   176.0  141.0   346.0       NaN      NaN       NaN   7478.0   \n",
       "4   223.0   653.0  119.0   474.0   22155.0   1190.0   20965.0   5400.0   \n",
       "\n",
       "   Expenditure/Enrollment                          Enrollment size  \n",
       "0                7.871378   Greater than 1999 and less than 10,000  \n",
       "1                9.709864  Greater than 9,999 and less than 10,000  \n",
       "2               11.150270      Greater than 499 and less than 1000  \n",
       "3                9.049841   Greater than 1999 and less than 10,000  \n",
       "4                9.321716   Greater than 1999 and less than 10,000  \n",
       "\n",
       "[5 rows x 71 columns]"
      ]
     },
     "execution_count": 35,
     "metadata": {},
     "output_type": "execute_result"
    }
   ],
   "source": [
    "def group_pop(x): \n",
    "    if x >= 50000:\n",
    "        return \"Greater than 50,000\"\n",
    "    elif x < 50000 and x >= 10000:\n",
    "        return \"Greater than 9,999 and less than 10,000\"\n",
    "    elif x < 10000 and x >= 2000:\n",
    "        return \"Greater than 1999 and less than 10,000\"\n",
    "    elif x < 2000 and x >= 999:\n",
    "        return \"Greater than 999 and less than 2000\"\n",
    "    elif x < 1000 and x >= 499:\n",
    "        return \"Greater than 499 and less than 1000\"\n",
    "    elif x < 500 and x >= 99:\n",
    "        return \"Greater than 99 and less than 500\"\n",
    "    else:\n",
    "        return \"Less than 100\"\n",
    "    \n",
    "df[\"Enrollment size\"] = df['V33'].map(group_pop)\n",
    "df.head()"
   ]
  },
  {
   "cell_type": "code",
   "execution_count": 107,
   "metadata": {},
   "outputs": [
    {
     "name": "stdout",
     "output_type": "stream",
     "text": [
      "12814\n"
     ]
    },
    {
     "data": {
      "image/png": "[encoded data removed]",
      "text/plain": [
       "<matplotlib.figure.Figure at 0x1ab6108ab70>"
      ]
     },
     "metadata": {},
     "output_type": "display_data"
    }
   ],
   "source": [
    "bins = [100, 500, 1000, 2000, 10000, 50000]\n",
    "fa_enrollment.hist(bins = bins)\n",
    "print(93 + 800 + 3712 + 2512 + 2538 + 3159)"
   ]
  },
  {
   "cell_type": "code",
   "execution_count": 106,
   "metadata": {},
   "outputs": [
    {
     "data": {
      "text/plain": [
       "<matplotlib.axes._subplots.AxesSubplot at 0x1ab5bc6b320>"
      ]
     },
     "execution_count": 106,
     "metadata": {},
     "output_type": "execute_result"
    },
    {
     "data": {
      "image/png": "[encoded data removed]",
      "text/plain": [
       "<matplotlib.figure.Figure at 0x1ab5f7a7e48>"
      ]
     },
     "metadata": {},
     "output_type": "display_data"
    }
   ],
   "source": []
  },
  {
   "cell_type": "code",
   "execution_count": 58,
   "metadata": {},
   "outputs": [
    {
     "data": {
      "text/plain": [
       "array([[<matplotlib.axes._subplots.AxesSubplot object at 0x000001AB60DD9E10>]], dtype=object)"
      ]
     },
     "execution_count": 58,
     "metadata": {},
     "output_type": "execute_result"
    },
    {
     "data": {
      "image/png": "[encoded data removed]",
      "text/plain": [
       "<matplotlib.figure.Figure at 0x1ab60d16f28>"
      ]
     },
     "metadata": {},
     "output_type": "display_data"
    }
   ],
   "source": [
    "fa_enrollment = fa_enrollment[fa_enrollment['V33'] < 50000]\n",
    "fa_enrollment.describe()\n",
    "fa_enrollment.hist()"
   ]
  },
  {
   "cell_type": "code",
   "execution_count": 59,
   "metadata": {},
   "outputs": [
    {
     "data": {
      "text/plain": [
       "array([[<matplotlib.axes._subplots.AxesSubplot object at 0x000001AB60EE6A20>]], dtype=object)"
      ]
     },
     "execution_count": 59,
     "metadata": {},
     "output_type": "execute_result"
    },
    {
     "data": {
      "image/png": "[encoded data removed]",
      "text/plain": [
       "<matplotlib.figure.Figure at 0x1ab60da6b00>"
      ]
     },
     "metadata": {},
     "output_type": "display_data"
    }
   ],
   "source": [
    "fa_enrollment = fa_enrollment[fa_enrollment['V33'] < 25000]\n",
    "fa_enrollment.describe()\n",
    "fa_enrollment.hist()"
   ]
  },
  {
   "cell_type": "code",
   "execution_count": 60,
   "metadata": {},
   "outputs": [
    {
     "data": {
      "text/plain": [
       "array([[<matplotlib.axes._subplots.AxesSubplot object at 0x000001AB60FE87F0>]], dtype=object)"
      ]
     },
     "execution_count": 60,
     "metadata": {},
     "output_type": "execute_result"
    },
    {
     "data": {
      "image/png": "[encoded data removed]",
      "text/plain": [
       "<matplotlib.figure.Figure at 0x1ab60fdda20>"
      ]
     },
     "metadata": {},
     "output_type": "display_data"
    }
   ],
   "source": [
    "fa_enrollment = fa_enrollment[fa_enrollment['V33'] < 10000]\n",
    "fa_enrollment.describe()\n",
    "fa_enrollment.hist()"
   ]
  }
 ],
 "metadata": {
  "kernelspec": {
   "display_name": "Python 3",
   "language": "python",
   "name": "python3"
  },
  "language_info": {
   "codemirror_mode": {
    "name": "ipython",
    "version": 3
   },
   "file_extension": ".py",
   "mimetype": "text/x-python",
   "name": "python",
   "nbconvert_exporter": "python",
   "pygments_lexer": "ipython3",
   "version": "3.6.1"
  }
 },
 "nbformat": 4,
 "nbformat_minor": 2
}
