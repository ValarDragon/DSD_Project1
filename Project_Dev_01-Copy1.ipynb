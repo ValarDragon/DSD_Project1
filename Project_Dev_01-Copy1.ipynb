{
 "cells": [
  {
   "cell_type": "code",
   "execution_count": 510,
   "metadata": {},
   "outputs": [],
   "source": [
    "import missingno as msno\n",
    "import seaborn as sns\n",
    "import numpy as np\n",
    "import pandas as pd\n",
    "import matplotlib.pyplot as plt\n",
    "sns.set()\n",
    "import math\n",
    "import csv\n",
    "from scipy import stats\n",
    "\n",
    "from sklearn.preprocessing import MinMaxScaler\n",
    "import statsmodels.api as sm\n",
    "import matplotlib.mlab as mlab\n",
    "from sklearn.feature_selection import RFECV\n",
    "from sklearn.linear_model import LinearRegression\n",
    "from sklearn.model_selection import train_test_split"
   ]
  },
  {
   "cell_type": "markdown",
   "metadata": {},
   "source": [
    "We are using the School Finances Dataset. "
   ]
  },
  {
   "cell_type": "markdown",
   "metadata": {
    "collapsed": true
   },
   "source": [
    "import missingno as msno\n",
    "import seaborn as sns\n",
    "import numpy as np\n",
    "import pandas as pd\n",
    "import matplotlib.pyplot as plt\n",
    "sns.set()\n",
    "%matplotlib inline\n",
    "import matplotlib.pyplot as plt"
   ]
  },
  {
   "cell_type": "code",
   "execution_count": 511,
   "metadata": {},
   "outputs": [
    {
     "name": "stderr",
     "output_type": "stream",
     "text": [
      "C:\\Users\\brand\\Anaconda3\\lib\\site-packages\\IPython\\core\\interactiveshell.py:2717: DtypeWarning: Columns (7) have mixed types. Specify dtype option on import or set low_memory=False.\n",
      "  interactivity=interactivity, compiler=compiler, result=result)\n"
     ]
    }
   ],
   "source": [
    "df = pd.read_csv('elsec15.csv')"
   ]
  },
  {
   "cell_type": "code",
   "execution_count": 512,
   "metadata": {},
   "outputs": [
    {
     "data": {
      "text/html": [
       "<div>\n",
       "<style>\n",
       "    .dataframe thead tr:only-child th {\n",
       "        text-align: right;\n",
       "    }\n",
       "\n",
       "    .dataframe thead th {\n",
       "        text-align: left;\n",
       "    }\n",
       "\n",
       "    .dataframe tbody tr th {\n",
       "        vertical-align: top;\n",
       "    }\n",
       "</style>\n",
       "<table border=\"1\" class=\"dataframe\">\n",
       "  <thead>\n",
       "    <tr style=\"text-align: right;\">\n",
       "      <th></th>\n",
       "      <th>STATE</th>\n",
       "      <th>IDCENSUS</th>\n",
       "      <th>NAME</th>\n",
       "      <th>CONUM</th>\n",
       "      <th>CSA</th>\n",
       "      <th>CBSA</th>\n",
       "      <th>SCHLEV</th>\n",
       "      <th>NCESID</th>\n",
       "      <th>YRDATA</th>\n",
       "      <th>V33</th>\n",
       "      <th>...</th>\n",
       "      <th>V32</th>\n",
       "      <th>_19H</th>\n",
       "      <th>_21F</th>\n",
       "      <th>_31F</th>\n",
       "      <th>_41F</th>\n",
       "      <th>_61V</th>\n",
       "      <th>_66V</th>\n",
       "      <th>W01</th>\n",
       "      <th>W31</th>\n",
       "      <th>W61</th>\n",
       "    </tr>\n",
       "  </thead>\n",
       "  <tbody>\n",
       "    <tr>\n",
       "      <th>0</th>\n",
       "      <td>1</td>\n",
       "      <td>1500100100000</td>\n",
       "      <td>AUTAUGA COUNTY SCHOOL DISTRICT</td>\n",
       "      <td>1001</td>\n",
       "      <td>N</td>\n",
       "      <td>33860</td>\n",
       "      <td>3</td>\n",
       "      <td>0100240</td>\n",
       "      <td>15</td>\n",
       "      <td>9664</td>\n",
       "      <td>...</td>\n",
       "      <td>0</td>\n",
       "      <td>49431</td>\n",
       "      <td>16603</td>\n",
       "      <td>2992</td>\n",
       "      <td>63042</td>\n",
       "      <td>0</td>\n",
       "      <td>0</td>\n",
       "      <td>2094</td>\n",
       "      <td>372</td>\n",
       "      <td>8617</td>\n",
       "    </tr>\n",
       "    <tr>\n",
       "      <th>1</th>\n",
       "      <td>1</td>\n",
       "      <td>1500200100000</td>\n",
       "      <td>BALDWIN COUNTY SCHOOL DISTRICT</td>\n",
       "      <td>1003</td>\n",
       "      <td>380</td>\n",
       "      <td>19300</td>\n",
       "      <td>3</td>\n",
       "      <td>0100270</td>\n",
       "      <td>15</td>\n",
       "      <td>30596</td>\n",
       "      <td>...</td>\n",
       "      <td>0</td>\n",
       "      <td>337160</td>\n",
       "      <td>99087</td>\n",
       "      <td>13027</td>\n",
       "      <td>423220</td>\n",
       "      <td>0</td>\n",
       "      <td>0</td>\n",
       "      <td>5784</td>\n",
       "      <td>50441</td>\n",
       "      <td>71370</td>\n",
       "    </tr>\n",
       "    <tr>\n",
       "      <th>2</th>\n",
       "      <td>1</td>\n",
       "      <td>1500300100000</td>\n",
       "      <td>BARBOUR COUNTY SCHOOL DISTRICT</td>\n",
       "      <td>1005</td>\n",
       "      <td>N</td>\n",
       "      <td>N</td>\n",
       "      <td>3</td>\n",
       "      <td>0100300</td>\n",
       "      <td>15</td>\n",
       "      <td>925</td>\n",
       "      <td>...</td>\n",
       "      <td>0</td>\n",
       "      <td>8024</td>\n",
       "      <td>0</td>\n",
       "      <td>304</td>\n",
       "      <td>7720</td>\n",
       "      <td>0</td>\n",
       "      <td>0</td>\n",
       "      <td>0</td>\n",
       "      <td>0</td>\n",
       "      <td>646</td>\n",
       "    </tr>\n",
       "    <tr>\n",
       "      <th>3</th>\n",
       "      <td>1</td>\n",
       "      <td>1500300200000</td>\n",
       "      <td>EUFAULA CITY SCHOOL DISTRICT</td>\n",
       "      <td>1005</td>\n",
       "      <td>N</td>\n",
       "      <td>N</td>\n",
       "      <td>3</td>\n",
       "      <td>0101410</td>\n",
       "      <td>15</td>\n",
       "      <td>2829</td>\n",
       "      <td>...</td>\n",
       "      <td>0</td>\n",
       "      <td>0</td>\n",
       "      <td>0</td>\n",
       "      <td>0</td>\n",
       "      <td>0</td>\n",
       "      <td>0</td>\n",
       "      <td>0</td>\n",
       "      <td>0</td>\n",
       "      <td>2054</td>\n",
       "      <td>7478</td>\n",
       "    </tr>\n",
       "    <tr>\n",
       "      <th>4</th>\n",
       "      <td>1</td>\n",
       "      <td>1500400100000</td>\n",
       "      <td>BIBB COUNTY SCHOOL DISTRICT</td>\n",
       "      <td>1007</td>\n",
       "      <td>142</td>\n",
       "      <td>13820</td>\n",
       "      <td>3</td>\n",
       "      <td>0100360</td>\n",
       "      <td>15</td>\n",
       "      <td>3357</td>\n",
       "      <td>...</td>\n",
       "      <td>0</td>\n",
       "      <td>22155</td>\n",
       "      <td>0</td>\n",
       "      <td>1190</td>\n",
       "      <td>20965</td>\n",
       "      <td>0</td>\n",
       "      <td>0</td>\n",
       "      <td>1397</td>\n",
       "      <td>790</td>\n",
       "      <td>5400</td>\n",
       "    </tr>\n",
       "  </tbody>\n",
       "</table>\n",
       "<p>5 rows × 141 columns</p>\n",
       "</div>"
      ],
      "text/plain": [
       "   STATE       IDCENSUS                            NAME  CONUM  CSA   CBSA  \\\n",
       "0      1  1500100100000  AUTAUGA COUNTY SCHOOL DISTRICT   1001    N  33860   \n",
       "1      1  1500200100000  BALDWIN COUNTY SCHOOL DISTRICT   1003  380  19300   \n",
       "2      1  1500300100000  BARBOUR COUNTY SCHOOL DISTRICT   1005    N      N   \n",
       "3      1  1500300200000    EUFAULA CITY SCHOOL DISTRICT   1005    N      N   \n",
       "4      1  1500400100000     BIBB COUNTY SCHOOL DISTRICT   1007  142  13820   \n",
       "\n",
       "   SCHLEV   NCESID  YRDATA    V33  ...    V32    _19H   _21F   _31F    _41F  \\\n",
       "0       3  0100240      15   9664  ...      0   49431  16603   2992   63042   \n",
       "1       3  0100270      15  30596  ...      0  337160  99087  13027  423220   \n",
       "2       3  0100300      15    925  ...      0    8024      0    304    7720   \n",
       "3       3  0101410      15   2829  ...      0       0      0      0       0   \n",
       "4       3  0100360      15   3357  ...      0   22155      0   1190   20965   \n",
       "\n",
       "   _61V  _66V   W01    W31    W61  \n",
       "0     0     0  2094    372   8617  \n",
       "1     0     0  5784  50441  71370  \n",
       "2     0     0     0      0    646  \n",
       "3     0     0     0   2054   7478  \n",
       "4     0     0  1397    790   5400  \n",
       "\n",
       "[5 rows x 141 columns]"
      ]
     },
     "execution_count": 512,
     "metadata": {},
     "output_type": "execute_result"
    }
   ],
   "source": [
    "df.head()"
   ]
  },
  {
   "cell_type": "code",
   "execution_count": 513,
   "metadata": {},
   "outputs": [
    {
     "data": {
      "image/png": "[encoded data removed]",
      "text/plain": [
       "<matplotlib.figure.Figure at 0x194040f2d68>"
      ]
     },
     "metadata": {},
     "output_type": "display_data"
    }
   ],
   "source": [
    "msno.matrix(df)"
   ]
  },
  {
   "cell_type": "code",
   "execution_count": 514,
   "metadata": {},
   "outputs": [
    {
     "data": {
      "text/plain": [
       "(14376, 141)"
      ]
     },
     "execution_count": 514,
     "metadata": {},
     "output_type": "execute_result"
    }
   ],
   "source": [
    "df.shape"
   ]
  },
  {
   "cell_type": "code",
   "execution_count": 515,
   "metadata": {},
   "outputs": [
    {
     "data": {
      "text/html": [
       "<div>\n",
       "<style>\n",
       "    .dataframe thead tr:only-child th {\n",
       "        text-align: right;\n",
       "    }\n",
       "\n",
       "    .dataframe thead th {\n",
       "        text-align: left;\n",
       "    }\n",
       "\n",
       "    .dataframe tbody tr th {\n",
       "        vertical-align: top;\n",
       "    }\n",
       "</style>\n",
       "<table border=\"1\" class=\"dataframe\">\n",
       "  <thead>\n",
       "    <tr style=\"text-align: right;\">\n",
       "      <th></th>\n",
       "      <th>STATE</th>\n",
       "      <th>IDCENSUS</th>\n",
       "      <th>CONUM</th>\n",
       "      <th>SCHLEV</th>\n",
       "      <th>YRDATA</th>\n",
       "      <th>V33</th>\n",
       "      <th>TOTALREV</th>\n",
       "      <th>TFEDREV</th>\n",
       "      <th>C14</th>\n",
       "      <th>C15</th>\n",
       "      <th>...</th>\n",
       "      <th>V32</th>\n",
       "      <th>_19H</th>\n",
       "      <th>_21F</th>\n",
       "      <th>_31F</th>\n",
       "      <th>_41F</th>\n",
       "      <th>_61V</th>\n",
       "      <th>_66V</th>\n",
       "      <th>W01</th>\n",
       "      <th>W31</th>\n",
       "      <th>W61</th>\n",
       "    </tr>\n",
       "  </thead>\n",
       "  <tbody>\n",
       "    <tr>\n",
       "      <th>count</th>\n",
       "      <td>14376.000000</td>\n",
       "      <td>1.437600e+04</td>\n",
       "      <td>14376.000000</td>\n",
       "      <td>14376.000000</td>\n",
       "      <td>14376.0</td>\n",
       "      <td>14376.000000</td>\n",
       "      <td>1.437600e+04</td>\n",
       "      <td>1.437600e+04</td>\n",
       "      <td>14376.000000</td>\n",
       "      <td>14376.000000</td>\n",
       "      <td>...</td>\n",
       "      <td>14376.000000</td>\n",
       "      <td>1.437600e+04</td>\n",
       "      <td>1.437600e+04</td>\n",
       "      <td>14376.000000</td>\n",
       "      <td>1.437600e+04</td>\n",
       "      <td>14376.000000</td>\n",
       "      <td>14376.000000</td>\n",
       "      <td>14376.000000</td>\n",
       "      <td>14376.000000</td>\n",
       "      <td>1.437600e+04</td>\n",
       "    </tr>\n",
       "    <tr>\n",
       "      <th>mean</th>\n",
       "      <td>26.801336</td>\n",
       "      <td>2.728090e+13</td>\n",
       "      <td>29838.158598</td>\n",
       "      <td>2.883139</td>\n",
       "      <td>15.0</td>\n",
       "      <td>3374.682526</td>\n",
       "      <td>4.546951e+04</td>\n",
       "      <td>3.708038e+03</td>\n",
       "      <td>915.914858</td>\n",
       "      <td>752.781093</td>\n",
       "      <td>...</td>\n",
       "      <td>7.318656</td>\n",
       "      <td>2.871850e+04</td>\n",
       "      <td>4.831726e+03</td>\n",
       "      <td>3936.853158</td>\n",
       "      <td>2.957606e+04</td>\n",
       "      <td>487.162354</td>\n",
       "      <td>553.761547</td>\n",
       "      <td>1335.636825</td>\n",
       "      <td>3710.651920</td>\n",
       "      <td>9.091542e+03</td>\n",
       "    </tr>\n",
       "    <tr>\n",
       "      <th>std</th>\n",
       "      <td>13.894331</td>\n",
       "      <td>1.389514e+13</td>\n",
       "      <td>14753.492121</td>\n",
       "      <td>1.271649</td>\n",
       "      <td>0.0</td>\n",
       "      <td>14419.737037</td>\n",
       "      <td>2.590623e+05</td>\n",
       "      <td>2.021328e+04</td>\n",
       "      <td>5972.748111</td>\n",
       "      <td>3619.184513</td>\n",
       "      <td>...</td>\n",
       "      <td>122.649299</td>\n",
       "      <td>1.841763e+05</td>\n",
       "      <td>2.652979e+04</td>\n",
       "      <td>20071.591744</td>\n",
       "      <td>1.894224e+05</td>\n",
       "      <td>3555.988118</td>\n",
       "      <td>6968.740454</td>\n",
       "      <td>10651.097318</td>\n",
       "      <td>20183.852905</td>\n",
       "      <td>3.261580e+04</td>\n",
       "    </tr>\n",
       "    <tr>\n",
       "      <th>min</th>\n",
       "      <td>1.000000</td>\n",
       "      <td>1.500100e+12</td>\n",
       "      <td>1001.000000</td>\n",
       "      <td>1.000000</td>\n",
       "      <td>15.0</td>\n",
       "      <td>0.000000</td>\n",
       "      <td>0.000000e+00</td>\n",
       "      <td>0.000000e+00</td>\n",
       "      <td>0.000000</td>\n",
       "      <td>0.000000</td>\n",
       "      <td>...</td>\n",
       "      <td>0.000000</td>\n",
       "      <td>0.000000e+00</td>\n",
       "      <td>0.000000e+00</td>\n",
       "      <td>0.000000</td>\n",
       "      <td>0.000000e+00</td>\n",
       "      <td>0.000000</td>\n",
       "      <td>0.000000</td>\n",
       "      <td>0.000000</td>\n",
       "      <td>0.000000</td>\n",
       "      <td>0.000000e+00</td>\n",
       "    </tr>\n",
       "    <tr>\n",
       "      <th>25%</th>\n",
       "      <td>15.000000</td>\n",
       "      <td>1.550327e+13</td>\n",
       "      <td>18063.000000</td>\n",
       "      <td>3.000000</td>\n",
       "      <td>15.0</td>\n",
       "      <td>305.000000</td>\n",
       "      <td>5.241500e+03</td>\n",
       "      <td>2.920000e+02</td>\n",
       "      <td>54.000000</td>\n",
       "      <td>0.000000</td>\n",
       "      <td>...</td>\n",
       "      <td>0.000000</td>\n",
       "      <td>8.400000e+01</td>\n",
       "      <td>0.000000e+00</td>\n",
       "      <td>5.000000</td>\n",
       "      <td>7.150000e+01</td>\n",
       "      <td>0.000000</td>\n",
       "      <td>0.000000</td>\n",
       "      <td>0.000000</td>\n",
       "      <td>0.000000</td>\n",
       "      <td>8.350000e+02</td>\n",
       "    </tr>\n",
       "    <tr>\n",
       "      <th>50%</th>\n",
       "      <td>27.000000</td>\n",
       "      <td>2.750320e+13</td>\n",
       "      <td>30063.000000</td>\n",
       "      <td>3.000000</td>\n",
       "      <td>15.0</td>\n",
       "      <td>979.500000</td>\n",
       "      <td>1.402300e+04</td>\n",
       "      <td>8.470000e+02</td>\n",
       "      <td>180.000000</td>\n",
       "      <td>118.000000</td>\n",
       "      <td>...</td>\n",
       "      <td>0.000000</td>\n",
       "      <td>4.034000e+03</td>\n",
       "      <td>0.000000e+00</td>\n",
       "      <td>410.000000</td>\n",
       "      <td>4.143500e+03</td>\n",
       "      <td>0.000000</td>\n",
       "      <td>0.000000</td>\n",
       "      <td>0.000000</td>\n",
       "      <td>0.000000</td>\n",
       "      <td>2.708500e+03</td>\n",
       "    </tr>\n",
       "    <tr>\n",
       "      <th>75%</th>\n",
       "      <td>38.000000</td>\n",
       "      <td>3.850053e+13</td>\n",
       "      <td>41009.000000</td>\n",
       "      <td>3.000000</td>\n",
       "      <td>15.0</td>\n",
       "      <td>2744.250000</td>\n",
       "      <td>3.791375e+04</td>\n",
       "      <td>2.433500e+03</td>\n",
       "      <td>545.250000</td>\n",
       "      <td>532.000000</td>\n",
       "      <td>...</td>\n",
       "      <td>0.000000</td>\n",
       "      <td>1.866350e+04</td>\n",
       "      <td>3.030000e+02</td>\n",
       "      <td>1845.000000</td>\n",
       "      <td>1.912600e+04</td>\n",
       "      <td>0.000000</td>\n",
       "      <td>0.000000</td>\n",
       "      <td>491.000000</td>\n",
       "      <td>626.250000</td>\n",
       "      <td>7.567500e+03</td>\n",
       "    </tr>\n",
       "    <tr>\n",
       "      <th>max</th>\n",
       "      <td>51.000000</td>\n",
       "      <td>5.150230e+13</td>\n",
       "      <td>56045.000000</td>\n",
       "      <td>7.000000</td>\n",
       "      <td>15.0</td>\n",
       "      <td>995192.000000</td>\n",
       "      <td>2.543738e+07</td>\n",
       "      <td>1.307783e+06</td>\n",
       "      <td>379531.000000</td>\n",
       "      <td>248209.000000</td>\n",
       "      <td>...</td>\n",
       "      <td>7753.000000</td>\n",
       "      <td>1.372802e+07</td>\n",
       "      <td>1.312286e+06</td>\n",
       "      <td>731854.000000</td>\n",
       "      <td>1.447108e+07</td>\n",
       "      <td>173300.000000</td>\n",
       "      <td>700000.000000</td>\n",
       "      <td>869643.000000</td>\n",
       "      <td>885058.000000</td>\n",
       "      <td>2.355662e+06</td>\n",
       "    </tr>\n",
       "  </tbody>\n",
       "</table>\n",
       "<p>8 rows × 137 columns</p>\n",
       "</div>"
      ],
      "text/plain": [
       "              STATE      IDCENSUS         CONUM        SCHLEV   YRDATA  \\\n",
       "count  14376.000000  1.437600e+04  14376.000000  14376.000000  14376.0   \n",
       "mean      26.801336  2.728090e+13  29838.158598      2.883139     15.0   \n",
       "std       13.894331  1.389514e+13  14753.492121      1.271649      0.0   \n",
       "min        1.000000  1.500100e+12   1001.000000      1.000000     15.0   \n",
       "25%       15.000000  1.550327e+13  18063.000000      3.000000     15.0   \n",
       "50%       27.000000  2.750320e+13  30063.000000      3.000000     15.0   \n",
       "75%       38.000000  3.850053e+13  41009.000000      3.000000     15.0   \n",
       "max       51.000000  5.150230e+13  56045.000000      7.000000     15.0   \n",
       "\n",
       "                 V33      TOTALREV       TFEDREV            C14  \\\n",
       "count   14376.000000  1.437600e+04  1.437600e+04   14376.000000   \n",
       "mean     3374.682526  4.546951e+04  3.708038e+03     915.914858   \n",
       "std     14419.737037  2.590623e+05  2.021328e+04    5972.748111   \n",
       "min         0.000000  0.000000e+00  0.000000e+00       0.000000   \n",
       "25%       305.000000  5.241500e+03  2.920000e+02      54.000000   \n",
       "50%       979.500000  1.402300e+04  8.470000e+02     180.000000   \n",
       "75%      2744.250000  3.791375e+04  2.433500e+03     545.250000   \n",
       "max    995192.000000  2.543738e+07  1.307783e+06  379531.000000   \n",
       "\n",
       "                 C15      ...                V32          _19H          _21F  \\\n",
       "count   14376.000000      ...       14376.000000  1.437600e+04  1.437600e+04   \n",
       "mean      752.781093      ...           7.318656  2.871850e+04  4.831726e+03   \n",
       "std      3619.184513      ...         122.649299  1.841763e+05  2.652979e+04   \n",
       "min         0.000000      ...           0.000000  0.000000e+00  0.000000e+00   \n",
       "25%         0.000000      ...           0.000000  8.400000e+01  0.000000e+00   \n",
       "50%       118.000000      ...           0.000000  4.034000e+03  0.000000e+00   \n",
       "75%       532.000000      ...           0.000000  1.866350e+04  3.030000e+02   \n",
       "max    248209.000000      ...        7753.000000  1.372802e+07  1.312286e+06   \n",
       "\n",
       "                _31F          _41F           _61V           _66V  \\\n",
       "count   14376.000000  1.437600e+04   14376.000000   14376.000000   \n",
       "mean     3936.853158  2.957606e+04     487.162354     553.761547   \n",
       "std     20071.591744  1.894224e+05    3555.988118    6968.740454   \n",
       "min         0.000000  0.000000e+00       0.000000       0.000000   \n",
       "25%         5.000000  7.150000e+01       0.000000       0.000000   \n",
       "50%       410.000000  4.143500e+03       0.000000       0.000000   \n",
       "75%      1845.000000  1.912600e+04       0.000000       0.000000   \n",
       "max    731854.000000  1.447108e+07  173300.000000  700000.000000   \n",
       "\n",
       "                 W01            W31           W61  \n",
       "count   14376.000000   14376.000000  1.437600e+04  \n",
       "mean     1335.636825    3710.651920  9.091542e+03  \n",
       "std     10651.097318   20183.852905  3.261580e+04  \n",
       "min         0.000000       0.000000  0.000000e+00  \n",
       "25%         0.000000       0.000000  8.350000e+02  \n",
       "50%         0.000000       0.000000  2.708500e+03  \n",
       "75%       491.000000     626.250000  7.567500e+03  \n",
       "max    869643.000000  885058.000000  2.355662e+06  \n",
       "\n",
       "[8 rows x 137 columns]"
      ]
     },
     "execution_count": 515,
     "metadata": {},
     "output_type": "execute_result"
    }
   ],
   "source": [
    "df.describe()"
   ]
  },
  {
   "cell_type": "code",
   "execution_count": 516,
   "metadata": {
    "scrolled": true
   },
   "outputs": [
    {
     "data": {
      "text/plain": [
       "count     14376\n",
       "unique      170\n",
       "top           N\n",
       "freq       6892\n",
       "Name: CSA, dtype: object"
      ]
     },
     "execution_count": 516,
     "metadata": {},
     "output_type": "execute_result"
    }
   ],
   "source": [
    "df[\"CSA\"].describe()"
   ]
  },
  {
   "cell_type": "code",
   "execution_count": 517,
   "metadata": {
    "collapsed": true
   },
   "outputs": [],
   "source": [
    "df.replace(0, float(\"NAN\"), inplace=True)\n",
    "df.replace(\"N\", float(\"NAN\"), inplace=True)"
   ]
  },
  {
   "cell_type": "code",
   "execution_count": 518,
   "metadata": {},
   "outputs": [
    {
     "data": {
      "image/png": "[encoded data removed]",
      "text/plain": [
       "<matplotlib.figure.Figure at 0x194077aa5c0>"
      ]
     },
     "metadata": {},
     "output_type": "display_data"
    }
   ],
   "source": [
    "msno.matrix(df)"
   ]
  },
  {
   "cell_type": "code",
   "execution_count": 519,
   "metadata": {
    "collapsed": true
   },
   "outputs": [],
   "source": [
    "df = df.dropna(axis=1,thresh=8000, how='all')"
   ]
  },
  {
   "cell_type": "code",
   "execution_count": 520,
   "metadata": {},
   "outputs": [
    {
     "data": {
      "image/png": "[encoded data removed]",
      "text/plain": [
       "<matplotlib.figure.Figure at 0x194077aac18>"
      ]
     },
     "metadata": {},
     "output_type": "display_data"
    }
   ],
   "source": [
    "msno.matrix(df)"
   ]
  },
  {
   "cell_type": "code",
   "execution_count": 521,
   "metadata": {},
   "outputs": [
    {
     "data": {
      "text/plain": [
       "(14376, 72)"
      ]
     },
     "execution_count": 521,
     "metadata": {},
     "output_type": "execute_result"
    }
   ],
   "source": [
    "df.shape"
   ]
  },
  {
   "cell_type": "code",
   "execution_count": 522,
   "metadata": {
    "collapsed": true
   },
   "outputs": [],
   "source": [
    "df = df.dropna(axis=0,thresh=40, how='all')"
   ]
  },
  {
   "cell_type": "code",
   "execution_count": 523,
   "metadata": {},
   "outputs": [
    {
     "data": {
      "image/png": "[encoded data removed]",
      "text/plain": [
       "<matplotlib.figure.Figure at 0x19403909c50>"
      ]
     },
     "metadata": {},
     "output_type": "display_data"
    }
   ],
   "source": [
    "msno.matrix(df)"
   ]
  },
  {
   "cell_type": "code",
   "execution_count": 524,
   "metadata": {},
   "outputs": [
    {
     "data": {
      "text/plain": [
       "(13893, 72)"
      ]
     },
     "execution_count": 524,
     "metadata": {},
     "output_type": "execute_result"
    }
   ],
   "source": [
    "df.shape"
   ]
  },
  {
   "cell_type": "code",
   "execution_count": 525,
   "metadata": {
    "scrolled": true
   },
   "outputs": [
    {
     "data": {
      "text/plain": [
       "Index(['STATE', 'IDCENSUS', 'NAME', 'CONUM', 'CBSA', 'SCHLEV', 'NCESID',\n",
       "       'YRDATA', 'V33', 'TOTALREV', 'TFEDREV', 'C14', 'C15', 'C16', 'C20',\n",
       "       'C25', 'TSTREV', 'C01', 'C10', 'C13', 'TLOCREV', 'T06', 'D11', 'A09',\n",
       "       'A13', 'U22', 'U97', 'TOTALEXP', 'TCURELSC', 'TCURINST', 'E13',\n",
       "       'TCURSSVC', 'E17', 'E07', 'E08', 'E09', 'V40', 'V45', 'V90', 'TCUROTH',\n",
       "       'E11', 'NONELSEC', 'TCAPOUT', 'F12', 'K09', 'K10', 'Q11', 'I86', 'Z32',\n",
       "       'Z33', 'V11', 'V13', 'V15', 'V17', 'V21', 'V23', 'V37', 'V29', 'Z34',\n",
       "       'V10', 'V12', 'V14', 'V16', 'V18', 'V22', 'V24', 'V38', 'V30', '_19H',\n",
       "       '_31F', '_41F', 'W61'],\n",
       "      dtype='object')"
      ]
     },
     "execution_count": 525,
     "metadata": {},
     "output_type": "execute_result"
    }
   ],
   "source": [
    "df.columns"
   ]
  },
  {
   "cell_type": "code",
   "execution_count": 526,
   "metadata": {},
   "outputs": [
    {
     "name": "stdout",
     "output_type": "stream",
     "text": [
      "Code:  STATE | Label:  State Identification Number\n",
      "Code:  NAME | Label:  School System Name\n",
      "Code:  CONUM | Label:  ANSI State and County Code\n",
      "Code:  CBSA | Label:  Core-Based Statistical Area\n",
      "Code:  SCHLEV | Label:  School Level Code\n",
      "Code:  V33 | Label:  Fall Membership\n",
      "Code:  TOTALREV | Label:  TOTAL ELEMENTARY-SECONDARY REVENUE\n",
      "Code:  TFEDREV | Label:  TOTAL ELEMENTARY-SECONDARY REVENUE\n",
      "Code:  C14 | Label:  Federal revenue through the state - Title I\n",
      "Code:  C15 | Label:  Federal revenue through the state - Children with disabilities - IDEA\n",
      "Code:  C16 | Label:  Federal revenue through the state - Math, science, and teacher quality\n",
      "Code:  C20 | Label:  Federal revenue through the state - All other\n",
      "Code:  TSTREV | Label:  Total Revenue from State Sources\n",
      "Code:  C01 | Label:  General formula assistance\n",
      "Code:  C10 | Label:  School lunch programs\n",
      "Code:  C13 | Label:  All other revenues from state sources\n",
      "Code:  TLOCREV | Label:  Total Revenue from Local Sources\n",
      "Code:  T06 | Label:  Property taxes\n",
      "Code:  D11 | Label:  Revenue from other school systems\n",
      "Code:  A09 | Label:  School lunch revenues\n",
      "Code:  A13 | Label:  District activity receipts\n",
      "Code:  U22 | Label:  Interest earnings\n",
      "Code:  U97 | Label:  Miscellaneous other local revenues\n",
      "Code:  TOTALEXP | Label:  TOTAL ELEMENTARY-SECONDARY EXPENDITURE\n",
      "Code:  TCURELSC | Label:  TOTAL CURRENT SPENDING FOR ELEMENTARY-SECONDARY PROGRAMS\n",
      "Code:  TCURINST | Label:  TOTAL CURRENT SPENDING FOR INSTRUCTION\n",
      "Code:  E13 | Label:  Current operation expenditure - Instruction\n",
      "Code:  TCURSSVC | Label:  TOTAL CURRENT SPENDING FOR SUPPORT SERVICES\n",
      "Code:  E07 | Label:  Current operation expenditure - Instructional staff support\n",
      "Code:  E08 | Label:  Current operation expenditure - General administration\n",
      "Code:  E09 | Label:  Current operation expenditure - School administration\n",
      "Code:  V40 | Label:  Current operation expenditure - Operation and maintenance of plant\n",
      "Code:  V45 | Label:  Current operation expenditure - Student transportation\n",
      "Code:  V90 | Label:  Current operation expenditure - Business/central/other support services\n",
      "Code:  TCUROTH | Label:  TOTAL CURRENT SPENDING FOR OTHER ELEMENTARY-SECONDARY PROGRAMS\n",
      "Code:  E11 | Label:  Current operation expenditure - Food services\n",
      "Code:  NONELSEC | Label:  TOTAL CURRENT SPENDING FOR NONELEMENTARY-SECONDARY PROGRAMS\n",
      "Code:  TCAPOUT | Label:  TOTAL CAPITAL OUTLAY EXPENDITURE\n",
      "Code:  F12 | Label:  Construction\n",
      "Code:  K09 | Label:  Instructional equipment\n",
      "Code:  K10 | Label:  Other equipment\n",
      "Code:  Q11 | Label:  Payments to other school systems\n",
      "Code:  I86 | Label:  Interest on school system debt\n",
      "Code:  Z32 | Label:  Total salaries and wages\n",
      "Code:  Z33 | Label:  Total salaries and wages - Instruction\n",
      "Code:  V11 | Label:  Total salaries and wages - Pupil support\n",
      "Code:  V13 | Label:  Total salaries and wages - Instructional staff support\n",
      "Code:  V15 | Label:  Total salaries and wages - General administration\n",
      "Code:  V17 | Label:  Total salaries and wages - School administration\n",
      "Code:  V21 | Label:  Total salaries and wages - Operation and maintenance of plant\n",
      "Code:  V23 | Label:  Total salaries and wages - Student transportation \n",
      "Code:  V37 | Label:  Total salaries and wages - Business/central/other support services\n",
      "Code:  V29 | Label:  Total salaries and wages - Food services\n",
      "Code:  Z34 | Label:  Total employee benefit payments\n",
      "Code:  V10 | Label:  Total employee benefit payments - Instruction\n",
      "Code:  V12 | Label:  Total employee benefit payments - Pupil support\n",
      "Code:  V14 | Label:  Total employee benefit payments - Instructional staff\n",
      "Code:  V16 | Label:  Total employee benefit payments - General administration\n",
      "Code:  V18 | Label:  Total employee benefit payments - School administration\n",
      "Code:  V22 | Label:  Total employee benefit payments - Operation and maintenance of plant\n",
      "Code:  V24 | Label:  Total employee benefit payments - Student transportation\n",
      "Code:  V38 | Label:  Total employee benefit payments - Business/central/other support services\n",
      "Code:  V30 | Label:  Total employee benefit payments - Food services\n",
      "Code:  _19H | Label:  Long-term debt outstanding at beginning of the fiscal year\n",
      "Code:  _31F | Label:  Long-term debt retired during the fiscal year\n",
      "Code:  _41F | Label:  Long-term debt outstanding at end of fiscal year\n",
      "Code:  W61 | Label:  Cash and deposits, held at end of fiscal year - Other funds\n"
     ]
    }
   ],
   "source": [
    "\n",
    "mydict = {}\n",
    "with open('School Data Labels.csv', 'r') as csvfile:\n",
    "    spamreader = csv.reader(csvfile, delimiter=',')\n",
    "    for row in spamreader:\n",
    "        mydict[row[0]] = row[1]\n",
    "\n",
    "for key in mydict:\n",
    "    print(\"Code: \", key, \"| Label: \",mydict[key])"
   ]
  },
  {
   "cell_type": "code",
   "execution_count": 527,
   "metadata": {
    "collapsed": true
   },
   "outputs": [],
   "source": [
    "df.replace(float(\"NAN\"), 0, inplace=True)"
   ]
  },
  {
   "cell_type": "code",
   "execution_count": 528,
   "metadata": {
    "collapsed": true
   },
   "outputs": [],
   "source": [
    "df.drop(\"YRDATA\", axis=1,inplace=True)     #Its all 2015\n",
    "df.drop(\"IDCENSUS\", axis=1, inplace=True)\n",
    "df.drop(\"NCESID\", axis=1, inplace=True)"
   ]
  },
  {
   "cell_type": "code",
   "execution_count": 529,
   "metadata": {
    "collapsed": true
   },
   "outputs": [],
   "source": [
    "fa_enrollment = pd.DataFrame()"
   ]
  },
  {
   "cell_type": "code",
   "execution_count": 530,
   "metadata": {
    "collapsed": true,
    "scrolled": true
   },
   "outputs": [],
   "source": [
    "fa_enrollment['V33'] = df['V33'].dropna()"
   ]
  },
  {
   "cell_type": "code",
   "execution_count": 531,
   "metadata": {
    "scrolled": false
   },
   "outputs": [
    {
     "data": {
      "text/plain": [
       "array([[<matplotlib.axes._subplots.AxesSubplot object at 0x000001941A686B70>]], dtype=object)"
      ]
     },
     "execution_count": 531,
     "metadata": {},
     "output_type": "execute_result"
    }
   ],
   "source": [
    "fa_enrollment.hist()"
   ]
  },
  {
   "cell_type": "markdown",
   "metadata": {},
   "source": [
    "https://nces.ed.gov/pubs2012/2012001.pdf\n",
    "Page 170: Average enrollment size 693\n"
   ]
  },
  {
   "cell_type": "code",
   "execution_count": 532,
   "metadata": {
    "collapsed": true
   },
   "outputs": [],
   "source": [
    "def group_pop(x): \n",
    "    if x >= 50000:\n",
    "        return \"Greater than 50,000\"\n",
    "    elif x < 50000 and x >= 10000:\n",
    "        return \"Greater than 9,999 and less than 50,000\"\n",
    "    elif x < 10000 and x >= 2000:\n",
    "        return \"Greater than 1999 and less than 10,000\"\n",
    "    elif x < 2000 and x >= 999:\n",
    "        return \"Greater than 999 and less than 2000\"\n",
    "    elif x < 1000 and x >= 499:\n",
    "        return \"Greater than 499 and less than 1000\"\n",
    "    elif x < 500 and x >= 99:\n",
    "        return \"Greater than 99 and less than 500\"\n",
    "    else:\n",
    "        return \"Less than 100\"\n",
    "    \n",
    "df[\"Enrollment Size Class\"] = df['V33'].map(group_pop)"
   ]
  },
  {
   "cell_type": "code",
   "execution_count": 533,
   "metadata": {
    "collapsed": true,
    "scrolled": true
   },
   "outputs": [],
   "source": [
    "df_pop_mean = df.groupby(df[\"Enrollment Size Class\"]).count()"
   ]
  },
  {
   "cell_type": "code",
   "execution_count": 534,
   "metadata": {
    "collapsed": true
   },
   "outputs": [],
   "source": [
    "df_pop_count= df.sort_values(\"V33\", ascending=True).groupby(df[\"Enrollment Size Class\"]).count()"
   ]
  },
  {
   "cell_type": "code",
   "execution_count": 535,
   "metadata": {},
   "outputs": [
    {
     "data": {
      "text/plain": [
       "(13893, 70)"
      ]
     },
     "execution_count": 535,
     "metadata": {},
     "output_type": "execute_result"
    }
   ],
   "source": [
    "df.shape"
   ]
  },
  {
   "cell_type": "code",
   "execution_count": 536,
   "metadata": {
    "scrolled": true
   },
   "outputs": [
    {
     "name": "stdout",
     "output_type": "stream",
     "text": [
      "                                         STATE  NAME  CONUM  CBSA  SCHLEV  \\\n",
      "Enrollment Size Class                                                       \n",
      "Greater than 1999 and less than 10,000    3712  3712   3712  3712    3712   \n",
      "Greater than 499 and less than 1000       2359  2359   2359  2359    2359   \n",
      "Greater than 50,000                         93    93     93    93      93   \n",
      "Greater than 9,999 and less than 50,000    800   800    800   800     800   \n",
      "Greater than 99 and less than 500         3163  3163   3163  3163    3163   \n",
      "Greater than 999 and less than 2000       2516  2516   2516  2516    2516   \n",
      "Less than 100                             1250  1250   1250  1250    1250   \n",
      "\n",
      "                                          V33  TOTALREV  TFEDREV   C14   C15  \\\n",
      "Enrollment Size Class                                                          \n",
      "Greater than 1999 and less than 10,000   3712      3712     3712  3712  3712   \n",
      "Greater than 499 and less than 1000      2359      2359     2359  2359  2359   \n",
      "Greater than 50,000                        93        93       93    93    93   \n",
      "Greater than 9,999 and less than 50,000   800       800      800   800   800   \n",
      "Greater than 99 and less than 500        3163      3163     3163  3163  3163   \n",
      "Greater than 999 and less than 2000      2516      2516     2516  2516  2516   \n",
      "Less than 100                            1250      1250     1250  1250  1250   \n",
      "\n",
      "                                                 ...             V18   V22  \\\n",
      "Enrollment Size Class                            ...                         \n",
      "Greater than 1999 and less than 10,000           ...            3712  3712   \n",
      "Greater than 499 and less than 1000              ...            2359  2359   \n",
      "Greater than 50,000                              ...              93    93   \n",
      "Greater than 9,999 and less than 50,000          ...             800   800   \n",
      "Greater than 99 and less than 500                ...            3163  3163   \n",
      "Greater than 999 and less than 2000              ...            2516  2516   \n",
      "Less than 100                                    ...            1250  1250   \n",
      "\n",
      "                                          V24   V38   V30  _19H  _31F  _41F  \\\n",
      "Enrollment Size Class                                                         \n",
      "Greater than 1999 and less than 10,000   3712  3712  3712  3712  3712  3712   \n",
      "Greater than 499 and less than 1000      2359  2359  2359  2359  2359  2359   \n",
      "Greater than 50,000                        93    93    93    93    93    93   \n",
      "Greater than 9,999 and less than 50,000   800   800   800   800   800   800   \n",
      "Greater than 99 and less than 500        3163  3163  3163  3163  3163  3163   \n",
      "Greater than 999 and less than 2000      2516  2516  2516  2516  2516  2516   \n",
      "Less than 100                            1250  1250  1250  1250  1250  1250   \n",
      "\n",
      "                                          W61  Enrollment Size Class  \n",
      "Enrollment Size Class                                                 \n",
      "Greater than 1999 and less than 10,000   3712                   3712  \n",
      "Greater than 499 and less than 1000      2359                   2359  \n",
      "Greater than 50,000                        93                     93  \n",
      "Greater than 9,999 and less than 50,000   800                    800  \n",
      "Greater than 99 and less than 500        3163                   3163  \n",
      "Greater than 999 and less than 2000      2516                   2516  \n",
      "Less than 100                            1250                   1250  \n",
      "\n",
      "[7 rows x 70 columns]\n"
     ]
    }
   ],
   "source": [
    "print(df_pop_count)"
   ]
  },
  {
   "cell_type": "code",
   "execution_count": 537,
   "metadata": {},
   "outputs": [
    {
     "name": "stdout",
     "output_type": "stream",
     "text": [
      "Percentage of schools with  Greater than 1999 and less than 10,000  students:  0.267184913266\n",
      "Percentage of schools with  Greater than 499 and less than 1000  students:  0.169797739869\n",
      "Percentage of schools with  Greater than 50,000  students:  0.0066940185705\n",
      "Percentage of schools with  Greater than 9,999 and less than 50,000  students:  0.0575829554452\n",
      "Percentage of schools with  Greater than 99 and less than 500  students:  0.227668610091\n",
      "Percentage of schools with  Greater than 999 and less than 2000  students:  0.181098394875\n",
      "Percentage of schools with  Less than 100  students:  0.0899733678831\n",
      "1.0\n"
     ]
    }
   ],
   "source": [
    "percentage_sum = 0\n",
    "for i in range(0,7):\n",
    "    print(\"Percentage of schools with \" ,list(df_pop_sum.index)[i], \" students: \", df_pop_count[\"Enrollment Size Class\"][i]/df.shape[0])\n",
    "    percentage_sum += df_pop_count[\"Enrollment Size Class\"][i]/df.shape[0]\n",
    "    \n",
    "print(percentage_sum)"
   ]
  },
  {
   "cell_type": "code",
   "execution_count": 538,
   "metadata": {},
   "outputs": [
    {
     "data": {
      "image/png": "[encoded data removed]",
      "text/plain": [
       "<matplotlib.figure.Figure at 0x19410129358>"
      ]
     },
     "metadata": {},
     "output_type": "display_data"
    },
    {
     "data": {
      "image/png": "[encoded data removed]",
      "text/plain": [
       "<matplotlib.figure.Figure at 0x194075e9748>"
      ]
     },
     "metadata": {},
     "output_type": "display_data"
    }
   ],
   "source": [
    "plt.figure(figsize=(4,4))\n",
    "\n",
    "\n",
    "plt.xlabel('Enrollment Population Class')\n",
    "plt.ylabel('Frequency of Schools')\n",
    "plt.title('Histogram of Enrollment Population Class')\n",
    "\n",
    "\n",
    "for i in range(0,7):\n",
    "    plt.bar(i, df_pop_count[\"Enrollment Size Class\"][i], label = list(df_pop_sum.index)[i])\n",
    "plt.legend()\n",
    "plt.show()\n",
    "plt.close()"
   ]
  },
  {
   "cell_type": "code",
   "execution_count": 539,
   "metadata": {},
   "outputs": [
    {
     "name": "stdout",
     "output_type": "stream",
     "text": [
      "93\n"
     ]
    }
   ],
   "source": [
    "print(df[df[\"Enrollment Size Class\"] == \"Greater than 50,000\"].count()[0])"
   ]
  },
  {
   "cell_type": "code",
   "execution_count": 540,
   "metadata": {
    "collapsed": true
   },
   "outputs": [],
   "source": [
    "# It may be intresting to see if instructional spending differs about the different school sizes\n",
    "# \"\" Federal aid towards disadvantaged students, students with disabilities, and math and teacher quality\n",
    "#\n",
    "\n",
    "# It may also be interesting to see which schools have the MOST revenue per student, what schools those are, \n",
    "# and where they're located.\n",
    "# Likewise for the LEAST revenue per student.\n"
   ]
  },
  {
   "cell_type": "code",
   "execution_count": 541,
   "metadata": {},
   "outputs": [
    {
     "name": "stdout",
     "output_type": "stream",
     "text": [
      "count    1.389300e+04\n",
      "mean     1.350838e+04\n",
      "std      4.978096e+04\n",
      "min      0.000000e+00\n",
      "25%      7.080000e+02\n",
      "50%      2.968000e+03\n",
      "75%      1.015000e+04\n",
      "max      2.304656e+06\n",
      "Name: T06, dtype: float64\n"
     ]
    }
   ],
   "source": [
    "print(df[\"T06\"].describe())"
   ]
  },
  {
   "cell_type": "markdown",
   "metadata": {},
   "source": [
    "https://www.urban.org/sites/default/files/publication/24216/412959-Residential-Property-Taxes-in-the-United-States.PDF\n",
    "\n",
    "Mean Property Tax: $2,430 \n",
    "\n",
    "Standard Deviation: $1,599\n"
   ]
  },
  {
   "cell_type": "code",
   "execution_count": 542,
   "metadata": {
    "scrolled": true
   },
   "outputs": [
    {
     "data": {
      "text/html": [
       "<div>\n",
       "<style>\n",
       "    .dataframe thead tr:only-child th {\n",
       "        text-align: right;\n",
       "    }\n",
       "\n",
       "    .dataframe thead th {\n",
       "        text-align: left;\n",
       "    }\n",
       "\n",
       "    .dataframe tbody tr th {\n",
       "        vertical-align: top;\n",
       "    }\n",
       "</style>\n",
       "<table border=\"1\" class=\"dataframe\">\n",
       "  <thead>\n",
       "    <tr style=\"text-align: right;\">\n",
       "      <th></th>\n",
       "      <th>STATE</th>\n",
       "      <th>NAME</th>\n",
       "      <th>CONUM</th>\n",
       "      <th>CBSA</th>\n",
       "      <th>SCHLEV</th>\n",
       "      <th>V33</th>\n",
       "      <th>TOTALREV</th>\n",
       "      <th>TFEDREV</th>\n",
       "      <th>C14</th>\n",
       "      <th>C15</th>\n",
       "      <th>...</th>\n",
       "      <th>V22</th>\n",
       "      <th>V24</th>\n",
       "      <th>V38</th>\n",
       "      <th>V30</th>\n",
       "      <th>_19H</th>\n",
       "      <th>_31F</th>\n",
       "      <th>_41F</th>\n",
       "      <th>W61</th>\n",
       "      <th>Enrollment Size Class</th>\n",
       "      <th>Property Tax Class</th>\n",
       "    </tr>\n",
       "  </thead>\n",
       "  <tbody>\n",
       "    <tr>\n",
       "      <th>0</th>\n",
       "      <td>1</td>\n",
       "      <td>AUTAUGA COUNTY SCHOOL DISTRICT</td>\n",
       "      <td>1001</td>\n",
       "      <td>33860</td>\n",
       "      <td>3</td>\n",
       "      <td>9664.0</td>\n",
       "      <td>79665.0</td>\n",
       "      <td>7574.0</td>\n",
       "      <td>1791.0</td>\n",
       "      <td>2179.0</td>\n",
       "      <td>...</td>\n",
       "      <td>705.0</td>\n",
       "      <td>1672.0</td>\n",
       "      <td>122.0</td>\n",
       "      <td>1126.0</td>\n",
       "      <td>49431.0</td>\n",
       "      <td>2992.0</td>\n",
       "      <td>63042.0</td>\n",
       "      <td>8617.0</td>\n",
       "      <td>Greater than 1999 and less than 10,000</td>\n",
       "      <td>High</td>\n",
       "    </tr>\n",
       "    <tr>\n",
       "      <th>1</th>\n",
       "      <td>1</td>\n",
       "      <td>BALDWIN COUNTY SCHOOL DISTRICT</td>\n",
       "      <td>1003</td>\n",
       "      <td>19300</td>\n",
       "      <td>3</td>\n",
       "      <td>30596.0</td>\n",
       "      <td>330317.0</td>\n",
       "      <td>23602.0</td>\n",
       "      <td>5729.0</td>\n",
       "      <td>7207.0</td>\n",
       "      <td>...</td>\n",
       "      <td>3787.0</td>\n",
       "      <td>3219.0</td>\n",
       "      <td>744.0</td>\n",
       "      <td>2924.0</td>\n",
       "      <td>337160.0</td>\n",
       "      <td>13027.0</td>\n",
       "      <td>423220.0</td>\n",
       "      <td>71370.0</td>\n",
       "      <td>Greater than 9,999 and less than 50,000</td>\n",
       "      <td>High</td>\n",
       "    </tr>\n",
       "    <tr>\n",
       "      <th>2</th>\n",
       "      <td>1</td>\n",
       "      <td>BARBOUR COUNTY SCHOOL DISTRICT</td>\n",
       "      <td>1005</td>\n",
       "      <td>0</td>\n",
       "      <td>3</td>\n",
       "      <td>925.0</td>\n",
       "      <td>10519.0</td>\n",
       "      <td>2518.0</td>\n",
       "      <td>1279.0</td>\n",
       "      <td>323.0</td>\n",
       "      <td>...</td>\n",
       "      <td>68.0</td>\n",
       "      <td>196.0</td>\n",
       "      <td>20.0</td>\n",
       "      <td>134.0</td>\n",
       "      <td>8024.0</td>\n",
       "      <td>304.0</td>\n",
       "      <td>7720.0</td>\n",
       "      <td>646.0</td>\n",
       "      <td>Greater than 499 and less than 1000</td>\n",
       "      <td>Below Average</td>\n",
       "    </tr>\n",
       "    <tr>\n",
       "      <th>3</th>\n",
       "      <td>1</td>\n",
       "      <td>EUFAULA CITY SCHOOL DISTRICT</td>\n",
       "      <td>1005</td>\n",
       "      <td>0</td>\n",
       "      <td>3</td>\n",
       "      <td>2829.0</td>\n",
       "      <td>26076.0</td>\n",
       "      <td>3374.0</td>\n",
       "      <td>1035.0</td>\n",
       "      <td>596.0</td>\n",
       "      <td>...</td>\n",
       "      <td>190.0</td>\n",
       "      <td>176.0</td>\n",
       "      <td>141.0</td>\n",
       "      <td>346.0</td>\n",
       "      <td>0.0</td>\n",
       "      <td>0.0</td>\n",
       "      <td>0.0</td>\n",
       "      <td>7478.0</td>\n",
       "      <td>Greater than 1999 and less than 10,000</td>\n",
       "      <td>Average</td>\n",
       "    </tr>\n",
       "    <tr>\n",
       "      <th>4</th>\n",
       "      <td>1</td>\n",
       "      <td>BIBB COUNTY SCHOOL DISTRICT</td>\n",
       "      <td>1007</td>\n",
       "      <td>13820</td>\n",
       "      <td>3</td>\n",
       "      <td>3357.0</td>\n",
       "      <td>31825.0</td>\n",
       "      <td>3586.0</td>\n",
       "      <td>856.0</td>\n",
       "      <td>980.0</td>\n",
       "      <td>...</td>\n",
       "      <td>223.0</td>\n",
       "      <td>653.0</td>\n",
       "      <td>119.0</td>\n",
       "      <td>474.0</td>\n",
       "      <td>22155.0</td>\n",
       "      <td>1190.0</td>\n",
       "      <td>20965.0</td>\n",
       "      <td>5400.0</td>\n",
       "      <td>Greater than 1999 and less than 10,000</td>\n",
       "      <td>Below Average</td>\n",
       "    </tr>\n",
       "  </tbody>\n",
       "</table>\n",
       "<p>5 rows × 71 columns</p>\n",
       "</div>"
      ],
      "text/plain": [
       "   STATE                            NAME  CONUM   CBSA  SCHLEV      V33  \\\n",
       "0      1  AUTAUGA COUNTY SCHOOL DISTRICT   1001  33860       3   9664.0   \n",
       "1      1  BALDWIN COUNTY SCHOOL DISTRICT   1003  19300       3  30596.0   \n",
       "2      1  BARBOUR COUNTY SCHOOL DISTRICT   1005      0       3    925.0   \n",
       "3      1    EUFAULA CITY SCHOOL DISTRICT   1005      0       3   2829.0   \n",
       "4      1     BIBB COUNTY SCHOOL DISTRICT   1007  13820       3   3357.0   \n",
       "\n",
       "   TOTALREV  TFEDREV     C14     C15         ...             V22     V24  \\\n",
       "0   79665.0   7574.0  1791.0  2179.0         ...           705.0  1672.0   \n",
       "1  330317.0  23602.0  5729.0  7207.0         ...          3787.0  3219.0   \n",
       "2   10519.0   2518.0  1279.0   323.0         ...            68.0   196.0   \n",
       "3   26076.0   3374.0  1035.0   596.0         ...           190.0   176.0   \n",
       "4   31825.0   3586.0   856.0   980.0         ...           223.0   653.0   \n",
       "\n",
       "     V38     V30      _19H     _31F      _41F      W61  \\\n",
       "0  122.0  1126.0   49431.0   2992.0   63042.0   8617.0   \n",
       "1  744.0  2924.0  337160.0  13027.0  423220.0  71370.0   \n",
       "2   20.0   134.0    8024.0    304.0    7720.0    646.0   \n",
       "3  141.0   346.0       0.0      0.0       0.0   7478.0   \n",
       "4  119.0   474.0   22155.0   1190.0   20965.0   5400.0   \n",
       "\n",
       "                     Enrollment Size Class  Property Tax Class  \n",
       "0   Greater than 1999 and less than 10,000                High  \n",
       "1  Greater than 9,999 and less than 50,000                High  \n",
       "2      Greater than 499 and less than 1000       Below Average  \n",
       "3   Greater than 1999 and less than 10,000             Average  \n",
       "4   Greater than 1999 and less than 10,000       Below Average  \n",
       "\n",
       "[5 rows x 71 columns]"
      ]
     },
     "execution_count": 542,
     "metadata": {},
     "output_type": "execute_result"
    }
   ],
   "source": [
    "pt_mean = 2430\n",
    "pt_sd = 1599\n",
    "\n",
    "property_taxes = df[\"T06\"].dropna()\n",
    "bin_names = [\"Low\", \"Below Average\", \"Average\", \"Above Average\", \"High\"]\n",
    "pt_bins = pd.cut(property_taxes, [pt_mean-2*pt_sd, pt_mean-1*pt_sd, pt_mean, pt_mean+1*pt_sd, pt_mean+2*pt_sd, math.inf], labels = bin_names)\n",
    "\n",
    "pt_taxes = pd.DataFrame(property_taxes.groupby(pt_bins).count())\n",
    "df[\"Property Tax Class\"] = pt_bins\n",
    "df.head()\n"
   ]
  },
  {
   "cell_type": "code",
   "execution_count": 543,
   "metadata": {
    "scrolled": true
   },
   "outputs": [
    {
     "data": {
      "image/png": "[encoded data removed]",
      "text/plain": [
       "<matplotlib.figure.Figure at 0x194075e9eb8>"
      ]
     },
     "metadata": {},
     "output_type": "display_data"
    }
   ],
   "source": [
    "plt.figure(figsize=(4,4))\n",
    "\n",
    "plt.xlabel('Property Tax Class')\n",
    "plt.ylabel('Frequency of Schools')\n",
    "plt.title('Histogram of Property Tax Class')\n",
    "\n",
    "for i in range(0,5):\n",
    "    plt.bar(i, pt_taxes[\"T06\"][i], label = list(pt_taxes.index)[i])\n",
    "plt.legend()\n",
    "plt.show()\n",
    "plt.close()"
   ]
  },
  {
   "cell_type": "code",
   "execution_count": 559,
   "metadata": {
    "collapsed": true
   },
   "outputs": [],
   "source": [
    "df[\"Instructional spending per student\"] = df[\"TCURINST\"]/df[df[\"V33\"] != 0]['V33']"
   ]
  },
  {
   "cell_type": "code",
   "execution_count": 560,
   "metadata": {},
   "outputs": [
    {
     "name": "stdout",
     "output_type": "stream",
     "text": [
      "count    13296.000000\n",
      "mean         7.807195\n",
      "std          6.374398\n",
      "min          0.209268\n",
      "25%          5.509014\n",
      "50%          6.433396\n",
      "75%          8.773176\n",
      "max        286.797619\n",
      "Name: Instructional spending per student, dtype: float64\n"
     ]
    }
   ],
   "source": [
    "print(df[\"Instructional spending per student\"].describe())"
   ]
  },
  {
   "cell_type": "code",
   "execution_count": 561,
   "metadata": {},
   "outputs": [
    {
     "data": {
      "image/png": "[encoded data removed]",
      "text/plain": [
       "<matplotlib.figure.Figure at 0x19412d9fc88>"
      ]
     },
     "metadata": {},
     "output_type": "display_data"
    }
   ],
   "source": [
    "plt.figure(1, figsize=(4,4))\n",
    "plt.xlabel('Instructional Spending per Student')\n",
    "plt.ylabel('Frequency of Schools')\n",
    "plt.title('Histogram of Instructional Spending per Student by Schools')\n",
    "df[\"Instructional spending per student\"].hist(range=[0, 50], bins = 500)\n",
    "plt.show()\n",
    "plt.close()"
   ]
  },
  {
   "cell_type": "markdown",
   "metadata": {},
   "source": [
    "We'll build 3 models using simple linear regression\n",
    "\n",
    "Model 1: Regressing on Property Taxes vs Federal Title 1 Funding (Disadvantaged Students)\n",
    "\n",
    "Model 2: Regressing on Property Taxes vs Instructional Spending\n",
    "\n",
    "Model 3: Regressing on Property Taxes vs Outstanding Debt at the start of the fiscal year"
   ]
  },
  {
   "cell_type": "code",
   "execution_count": 547,
   "metadata": {},
   "outputs": [],
   "source": [
    "# Remove outlier property taxes and 0 property taxes. \n",
    "df_reg = df.copy()\n",
    "df_reg = df_reg[(np.abs(stats.zscore(df_reg[\"T06\"])) < 3) & (df_reg[\"T06\"] != 0)]\n",
    "\n",
    "taxes = df_reg[\"T06\"]\n",
    "title1 = df_reg[\"C14\"]\n",
    "spending = df_reg[\"TCURINST\"]\n",
    "debt = df_reg[\"_19H\"]"
   ]
  },
  {
   "cell_type": "code",
   "execution_count": 548,
   "metadata": {
    "scrolled": true
   },
   "outputs": [
    {
     "data": {
      "image/png": "[encoded data removed]",
      "text/plain": [
       "<matplotlib.figure.Figure at 0x194075fbba8>"
      ]
     },
     "metadata": {},
     "output_type": "display_data"
    },
    {
     "data": {
      "image/png": "[encoded data removed]",
      "text/plain": [
       "<matplotlib.figure.Figure at 0x19412d7bc18>"
      ]
     },
     "metadata": {},
     "output_type": "display_data"
    },
    {
     "data": {
      "image/png": "[encoded data removed]",
      "text/plain": [
       "<matplotlib.figure.Figure at 0x19411025a58>"
      ]
     },
     "metadata": {},
     "output_type": "display_data"
    }
   ],
   "source": [
    "plt.figure(1, figsize=(4,4))\n",
    "myOLS_title1 = sm.OLS(title1,taxes).fit()\n",
    "plt.plot(taxes, myOLS_title1.predict(taxes), color = 'red')\n",
    "plt.scatter(taxes,title1)\n",
    "plt.title(\"Property Taxes vs. Title 1 Funding\")\n",
    "plt.xlabel(\"Property Taxes\")\n",
    "plt.ylabel(\"Title 1 Funding\")\n",
    "plt.show()\n",
    "plt.close()\n",
    "\n",
    "plt.figure(2, figsize=(4,4))\n",
    "myOLS_spending = sm.OLS(spending,taxes).fit()\n",
    "plt.plot(taxes, myOLS_spending.predict(taxes), color = 'red')\n",
    "plt.scatter(taxes,spending)\n",
    "plt.title(\"Property Taxes vs Instructional Spending\")\n",
    "plt.xlabel(\"Property Taxes\")\n",
    "plt.ylabel(\"Instructional Spending\")\n",
    "plt.show()\n",
    "plt.close()\n",
    "\n",
    "plt.figure(3, figsize = (4,4))\n",
    "myOLS_debt = sm.OLS(debt, taxes).fit()\n",
    "plt.plot(taxes, myOLS_debt.predict(taxes), color = 'red')\n",
    "plt.scatter(taxes,debt)\n",
    "plt.title(\"Property Taxes vs Outstanding Debt\")\n",
    "plt.xlabel(\"Property Taxes\")\n",
    "plt.ylabel(\"Outstanding Debt\")\n",
    "plt.show()\n",
    "plt.close()"
   ]
  },
  {
   "cell_type": "code",
   "execution_count": 549,
   "metadata": {},
   "outputs": [
    {
     "data": {
      "text/plain": [
       "True"
      ]
     },
     "execution_count": 549,
     "metadata": {},
     "output_type": "execute_result"
    }
   ],
   "source": [
    "title1.isnull().sum()\n",
    "taxes.isnull().sum()\n",
    "len(title1) == len(taxes)"
   ]
  },
  {
   "cell_type": "code",
   "execution_count": 550,
   "metadata": {
    "collapsed": true
   },
   "outputs": [],
   "source": [
    "# Partitioning validation and training data\n",
    "\n",
    "taxes.shape\n",
    "train_num = int(np.round(taxes.shape[0]*.8))\n",
    "\n",
    "taxes_train = taxes[0:train_num]\n",
    "taxes_valid = taxes[train_num:]\n",
    "title1_train = title1[0:train_num]\n",
    "title1_valid = title1[train_num:]\n",
    "spending_train = spending[0:train_num]\n",
    "spending_valid = spending[train_num:]\n",
    "debt_train = debt[0:train_num]\n",
    "debt_valid = debt[train_num:]"
   ]
  },
  {
   "cell_type": "code",
   "execution_count": 551,
   "metadata": {},
   "outputs": [
    {
     "name": "stdout",
     "output_type": "stream",
     "text": [
      "The MSE for the model taxes~title1 is: 2048393.15748\n"
     ]
    }
   ],
   "source": [
    "myOLS = sm.OLS(title1_train,taxes_train).fit()\n",
    "title1_hat = myOLS.predict(taxes_valid)\n",
    "title1_mse = 1/len(title1_valid)*np.dot((title1_valid - title1_hat),(title1_valid - title1_hat))\n",
    "print(\"The MSE for the model taxes~title1 is:\", title1_mse)"
   ]
  },
  {
   "cell_type": "code",
   "execution_count": 552,
   "metadata": {},
   "outputs": [
    {
     "name": "stdout",
     "output_type": "stream",
     "text": [
      "The MSE for the model taxes~spending is: 287066747.999\n"
     ]
    }
   ],
   "source": [
    "myOLS = sm.OLS(spending_train,taxes_train).fit()\n",
    "spending_hat = myOLS.predict(taxes_valid)\n",
    "spending_mse = 1/len(spending_valid)*np.dot((spending_valid - spending_hat),(spending_valid - spending_hat))\n",
    "print(\"The MSE for the model taxes~spending is:\", spending_mse)"
   ]
  },
  {
   "cell_type": "code",
   "execution_count": 553,
   "metadata": {},
   "outputs": [
    {
     "name": "stdout",
     "output_type": "stream",
     "text": [
      "The MSE for the model taxes~spending is: 2681712357.44\n"
     ]
    }
   ],
   "source": [
    "myOLS = sm.OLS(debt_train,taxes_train).fit()\n",
    "debt_hat = myOLS.predict(taxes_valid)\n",
    "debt_mse = 1/len(debt_valid)*np.dot((debt_valid - debt_hat),(debt_valid - debt_hat))\n",
    "print(\"The MSE for the model taxes~debt is:\", debt_mse)"
   ]
  },
  {
   "cell_type": "code",
   "execution_count": 554,
   "metadata": {},
   "outputs": [
    {
     "name": "stdout",
     "output_type": "stream",
     "text": [
      "2048393.15748\n"
     ]
    }
   ],
   "source": [
    "# Compare MSE\n",
    "print(min(title1_mse, spending_mse, debt_mse))\n",
    "\n",
    "# The mean squared error for title 1 and taxes is most minimum, however to best line fit looks best for debt and taxes"
   ]
  },
  {
   "cell_type": "markdown",
   "metadata": {},
   "source": [
    "Of the three models it looks like property tax best predicts instructional spending.\n",
    "\n",
    "Let's use recursive feature selection to help us find even better indicators of instructional spending."
   ]
  },
  {
   "cell_type": "code",
   "execution_count": 555,
   "metadata": {},
   "outputs": [
    {
     "data": {
      "text/plain": [
       "Index(['STATE', 'NAME', 'CONUM', 'CBSA', 'SCHLEV', 'V33', 'TOTALREV',\n",
       "       'TFEDREV', 'C14', 'C15', 'C16', 'C20', 'C25', 'TSTREV', 'C01', 'C10',\n",
       "       'C13', 'TLOCREV', 'T06', 'D11', 'A09', 'A13', 'U22', 'U97', 'TOTALEXP',\n",
       "       'TCURELSC', 'TCURINST', 'E13', 'TCURSSVC', 'E17', 'E07', 'E08', 'E09',\n",
       "       'V40', 'V45', 'V90', 'TCUROTH', 'E11', 'NONELSEC', 'TCAPOUT', 'F12',\n",
       "       'K09', 'K10', 'Q11', 'I86', 'Z32', 'Z33', 'V11', 'V13', 'V15', 'V17',\n",
       "       'V21', 'V23', 'V37', 'V29', 'Z34', 'V10', 'V12', 'V14', 'V16', 'V18',\n",
       "       'V22', 'V24', 'V38', 'V30', '_19H', '_31F', '_41F', 'W61',\n",
       "       'Enrollment Size Class', 'Property Tax Class',\n",
       "       'Instructional spending per student'],\n",
       "      dtype='object')"
      ]
     },
     "execution_count": 555,
     "metadata": {},
     "output_type": "execute_result"
    }
   ],
   "source": [
    "df.columns"
   ]
  },
  {
   "cell_type": "code",
   "execution_count": 556,
   "metadata": {},
   "outputs": [
    {
     "name": "stdout",
     "output_type": "stream",
     "text": [
      "STATE                                 2808\n",
      "NAME                                  2808\n",
      "CONUM                                 2808\n",
      "CBSA                                  2808\n",
      "SCHLEV                                2808\n",
      "V33                                   2808\n",
      "TOTALREV                              2808\n",
      "TFEDREV                               2808\n",
      "C14                                   2808\n",
      "C15                                   2808\n",
      "C16                                   2808\n",
      "C20                                   2808\n",
      "C25                                   2808\n",
      "TSTREV                                2808\n",
      "C01                                   2808\n",
      "C10                                   2808\n",
      "C13                                   2808\n",
      "TLOCREV                               2808\n",
      "T06                                   2808\n",
      "D11                                   2808\n",
      "A09                                   2808\n",
      "A13                                   2808\n",
      "U22                                   2808\n",
      "U97                                   2808\n",
      "TOTALEXP                              2808\n",
      "TCURELSC                              2808\n",
      "TCURINST                              2808\n",
      "E13                                   2808\n",
      "TCURSSVC                              2808\n",
      "E17                                   2808\n",
      "                                      ... \n",
      "Q11                                   2808\n",
      "I86                                   2808\n",
      "Z32                                   2808\n",
      "Z33                                   2808\n",
      "V11                                   2808\n",
      "V13                                   2808\n",
      "V15                                   2808\n",
      "V17                                   2808\n",
      "V21                                   2808\n",
      "V23                                   2808\n",
      "V37                                   2808\n",
      "V29                                   2808\n",
      "Z34                                   2808\n",
      "V10                                   2808\n",
      "V12                                   2808\n",
      "V14                                   2808\n",
      "V16                                   2808\n",
      "V18                                   2808\n",
      "V22                                   2808\n",
      "V24                                   2808\n",
      "V38                                   2808\n",
      "V30                                   2808\n",
      "_19H                                  2808\n",
      "_31F                                  2808\n",
      "_41F                                  2808\n",
      "W61                                   2808\n",
      "Enrollment Size Class                 2808\n",
      "Property Tax Class                    2808\n",
      "Instructional spending per student    2393\n",
      "Debt Class                            2808\n",
      "Length: 73, dtype: int64 STATE                                 11085\n",
      "NAME                                  11085\n",
      "CONUM                                 11085\n",
      "CBSA                                  11085\n",
      "SCHLEV                                11085\n",
      "V33                                   11085\n",
      "TOTALREV                              11085\n",
      "TFEDREV                               11085\n",
      "C14                                   11085\n",
      "C15                                   11085\n",
      "C16                                   11085\n",
      "C20                                   11085\n",
      "C25                                   11085\n",
      "TSTREV                                11085\n",
      "C01                                   11085\n",
      "C10                                   11085\n",
      "C13                                   11085\n",
      "TLOCREV                               11085\n",
      "T06                                   11085\n",
      "D11                                   11085\n",
      "A09                                   11085\n",
      "A13                                   11085\n",
      "U22                                   11085\n",
      "U97                                   11085\n",
      "TOTALEXP                              11085\n",
      "TCURELSC                              11085\n",
      "TCURINST                              11085\n",
      "E13                                   11085\n",
      "TCURSSVC                              11085\n",
      "E17                                   11085\n",
      "                                      ...  \n",
      "Q11                                   11085\n",
      "I86                                   11085\n",
      "Z32                                   11085\n",
      "Z33                                   11085\n",
      "V11                                   11085\n",
      "V13                                   11085\n",
      "V15                                   11085\n",
      "V17                                   11085\n",
      "V21                                   11085\n",
      "V23                                   11085\n",
      "V37                                   11085\n",
      "V29                                   11085\n",
      "Z34                                   11085\n",
      "V10                                   11085\n",
      "V12                                   11085\n",
      "V14                                   11085\n",
      "V16                                   11085\n",
      "V18                                   11085\n",
      "V22                                   11085\n",
      "V24                                   11085\n",
      "V38                                   11085\n",
      "V30                                   11085\n",
      "_19H                                  11085\n",
      "_31F                                  11085\n",
      "_41F                                  11085\n",
      "W61                                   11085\n",
      "Enrollment Size Class                 11085\n",
      "Property Tax Class                    11085\n",
      "Instructional spending per student    10903\n",
      "Debt Class                            11085\n",
      "Length: 73, dtype: int64\n"
     ]
    }
   ],
   "source": [
    "df[\"_19H\"].describe()\n",
    "df[\"Debt Class\"] = df[\"_19H\"] ==  0\n",
    "print(df[df[\"Debt Class\"] == True].count(), df[df[\"Debt Class\"] == False].count())"
   ]
  },
  {
   "cell_type": "code",
   "execution_count": 557,
   "metadata": {
    "collapsed": true
   },
   "outputs": [],
   "source": [
    "def sigmoid(X, w):\n",
    "    \"\"\"\n",
    "    Compute the elementwise sigmoid of the product Xw\n",
    "    Data in X should be rows, weights are a column. \n",
    "    \"\"\"\n",
    "    return 1 / (1 + np.exp(-np.dot(X, w)))\n",
    "\n",
    "def gradient(X, y, w, onept, lamb=0):\n",
    "    \"\"\"\n",
    "    Compute gradient of regularized loss function. \n",
    "    Accomodate for if X is just one data point. \n",
    "    \"\"\"\n",
    "    if onept: \n",
    "        return 2 * lamb * w - ((y - sigmoid(X, w)) * X).reshape(w.size, 1)\n",
    "    return 2 * lamb * w - np.dot(X.T, y - sigmoid(X, w)) / y.size\n",
    "\n",
    "def loss(X, y, w, lamb=0):\n",
    "    \"\"\"\n",
    "    Compute total loss for the data in X, labels in y, params w\n",
    "    \"\"\"\n",
    "    sumcost = 0\n",
    "    for i in range(X.shape[0]):\n",
    "        sumcost += y[i] * np.log(sigmoid(X[i], w)) + (1 - y[i]) * np.log(1 - sigmoid(X[i], w))\n",
    "    return lamb * np.linalg.norm(w)**2 - sumcost / y.size\n",
    "\n",
    "def accuracy(X, y, w):\n",
    "    \"\"\"\n",
    "    Compute accuracy for data in X, labels in y, params w\n",
    "    \"\"\"\n",
    "    results = np.round(sigmoid(X, w))\n",
    "    score = sum([results[i] == y[i] for i in range(y.size)]) / y.size\n",
    "    return score[0]"
   ]
  },
  {
   "cell_type": "code",
   "execution_count": 572,
   "metadata": {},
   "outputs": [
    {
     "name": "stdout",
     "output_type": "stream",
     "text": [
      "[  76069.  297083.   10314. ...,   25150.   15825.    6757.]\n"
     ]
    },
    {
     "name": "stderr",
     "output_type": "stream",
     "text": [
      "C:\\Users\\brand\\Anaconda3\\lib\\site-packages\\numpy\\core\\fromnumeric.py:57: FutureWarning: reshape is deprecated and will raise in a subsequent release. Please use .values.reshape(...) instead\n",
      "  return getattr(obj, method)(*args, **kwds)\n"
     ]
    }
   ],
   "source": [
    "#Preprocess columns\n",
    "taxes = df[\"T06\"]\n",
    "spending = df[\"TOTALEXP\"]\n",
    "title1 = df[\"C14\"]\n",
    "idea = df[\"C15\"]\n",
    "mstq = df[\"C16\"]\n",
    "fedrev = df[\"C20\"]\n",
    "debt = df[\"Debt Class\"]\n",
    "\n",
    "\n",
    "scaler = MinMaxScaler()\n",
    "categories = [taxes, spending, title1, idea, mstq, fedrev, debt]\n",
    "scaler.fit(categories)\n",
    "MinMaxScaler(copy=True, feature_range=(0, 1))\n",
    "print(scaler.data_max_)\n",
    "    \n",
    "data_x = np.column_stack(scaler.transform(categories))\n",
    "data_y = np.reshape(debt, (data_x.shape[0], 1))\n",
    "\n",
    "train_x, valid_x, train_y, valid_y = train_test_split(data_x, data_y, test_size=0.10, random_state=42)"
   ]
  },
  {
   "cell_type": "code",
   "execution_count": 573,
   "metadata": {},
   "outputs": [
    {
     "name": "stdout",
     "output_type": "stream",
     "text": [
      "(12503, 7) (12503, 1)\n"
     ]
    }
   ],
   "source": [
    "print(train_x.shape, train_y.shape)"
   ]
  },
  {
   "cell_type": "code",
   "execution_count": 574,
   "metadata": {},
   "outputs": [
    {
     "name": "stdout",
     "output_type": "stream",
     "text": [
      "(1390, 7) (1390, 1)\n"
     ]
    }
   ],
   "source": [
    "print(valid_x.shape, valid_y.shape)"
   ]
  },
  {
   "cell_type": "code",
   "execution_count": 580,
   "metadata": {},
   "outputs": [],
   "source": [
    "weights = np.asarray([np.random.rand() for i in range(train_x.shape[1])]).reshape(train_x.shape[1], 1)\n",
    "weights /= np.linalg.norm(weights)\n",
    "losses = []\n",
    "accuracies = []\n",
    "epsilon = 0.001\n",
    "num_iterations = 500\n",
    "\n",
    "for i in range(500):\n",
    "    diff = epsilon * gradient(train_x, train_y, weights, False)\n",
    "    weights = weights - diff\n",
    "    losses.append(loss(train_x, train_y, weights))\n",
    "    accuracies.append(accuracy(test_x, valid_y, weights))"
   ]
  },
  {
   "cell_type": "code",
   "execution_count": 581,
   "metadata": {
    "scrolled": true
   },
   "outputs": [
    {
     "data": {
      "image/png": "[encoded data removed]",
      "text/plain": [
       "<matplotlib.figure.Figure at 0x19412850c50>"
      ]
     },
     "metadata": {},
     "output_type": "display_data"
    },
    {
     "name": "stdout",
     "output_type": "stream",
     "text": [
      "0.19928057554\n"
     ]
    }
   ],
   "source": [
    "plt.figure(figsize=[10,10])\n",
    "plt.plot(np.arange(num_iterations), losses, 'ro')\n",
    "plt.plot(np.arange(num_iterations), accuracies, 'bo')\n",
    "plt.title('Loss and Accuracy During Training Using Batch Gradient Descent')\n",
    "plt.ylabel('Value')\n",
    "plt.xlabel('Iteration Number')\n",
    "plt.show()\n",
    "print(accuracy(valid_x, valid_y, weights))"
   ]
  }
 ],
 "metadata": {
  "kernelspec": {
   "display_name": "Python 3",
   "language": "python",
   "name": "python3"
  },
  "language_info": {
   "codemirror_mode": {
    "name": "ipython",
    "version": 3
   },
   "file_extension": ".py",
   "mimetype": "text/x-python",
   "name": "python",
   "nbconvert_exporter": "python",
   "pygments_lexer": "ipython3",
   "version": "3.6.1"
  }
 },
 "nbformat": 4,
 "nbformat_minor": 2
}
